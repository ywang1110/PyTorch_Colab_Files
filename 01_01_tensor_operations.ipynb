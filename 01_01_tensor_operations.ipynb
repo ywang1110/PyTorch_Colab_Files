{
  "nbformat": 4,
  "nbformat_minor": 0,
  "metadata": {
    "colab": {
      "provenance": [],
      "toc_visible": true
    },
    "kernelspec": {
      "name": "python3",
      "display_name": "Python 3"
    },
    "language_info": {
      "name": "python"
    }
  },
  "cells": [
    {
      "cell_type": "code",
      "execution_count": null,
      "metadata": {
        "id": "u6Tn2HEcZliK"
      },
      "outputs": [],
      "source": [
        "import numpy as np\n",
        "import torch"
      ]
    },
    {
      "cell_type": "code",
      "source": [
        "!pip list | grep torch"
      ],
      "metadata": {
        "colab": {
          "base_uri": "https://localhost:8080/"
        },
        "id": "MhcJVwL-Zx3q",
        "outputId": "7250d46f-3fb4-46a3-8706-84564dc173ae"
      },
      "execution_count": null,
      "outputs": [
        {
          "output_type": "stream",
          "name": "stdout",
          "text": [
            "torch                                 2.6.0+cu124\n",
            "torchao                               0.10.0\n",
            "torchaudio                            2.6.0+cu124\n",
            "torchdata                             0.11.0\n",
            "torchsummary                          1.5.1\n",
            "torchtune                             0.6.1\n",
            "torchvision                           0.21.0+cu124\n"
          ]
        }
      ]
    },
    {
      "cell_type": "code",
      "source": [
        "!pip list | grep numpy"
      ],
      "metadata": {
        "colab": {
          "base_uri": "https://localhost:8080/"
        },
        "id": "GilyvPTzZ5Lp",
        "outputId": "774b9f56-8255-4006-d3f6-fd0ec9e42920"
      },
      "execution_count": null,
      "outputs": [
        {
          "output_type": "stream",
          "name": "stdout",
          "text": [
            "numpy                                 2.0.2\n"
          ]
        }
      ]
    },
    {
      "cell_type": "markdown",
      "source": [
        "# Fundamentals"
      ],
      "metadata": {
        "id": "7VbGAvegaERj"
      }
    },
    {
      "cell_type": "markdown",
      "source": [
        "## Tensor Operations"
      ],
      "metadata": {
        "id": "qKAxShrdaLW6"
      }
    },
    {
      "cell_type": "markdown",
      "source": [
        "### Create tensor from list"
      ],
      "metadata": {
        "id": "_XrROez-aQ2A"
      }
    },
    {
      "cell_type": "code",
      "source": [
        "data = [[1,2], [3,4]]"
      ],
      "metadata": {
        "id": "ecccI6ubaBvk"
      },
      "execution_count": null,
      "outputs": []
    },
    {
      "cell_type": "code",
      "source": [
        "tensor_fromList = torch.tensor(data)\n",
        "print(tensor_fromList)"
      ],
      "metadata": {
        "id": "-FQ0SPJkaY_n",
        "colab": {
          "base_uri": "https://localhost:8080/"
        },
        "outputId": "fee4f163-9077-4b7e-f858-ba4e9b5d2cc5"
      },
      "execution_count": null,
      "outputs": [
        {
          "output_type": "stream",
          "name": "stdout",
          "text": [
            "tensor([[1, 2],\n",
            "        [3, 4]])\n"
          ]
        }
      ]
    },
    {
      "cell_type": "markdown",
      "source": [
        "### Create tensor from numpy array"
      ],
      "metadata": {
        "id": "G-TV_iV5cH21"
      }
    },
    {
      "cell_type": "code",
      "source": [
        "np_array = np.array([[1,2], [3,4]])"
      ],
      "metadata": {
        "id": "lNRxw9rRcGFj"
      },
      "execution_count": null,
      "outputs": []
    },
    {
      "cell_type": "code",
      "source": [
        "tensor_from_numpy = torch.from_numpy(np_array)\n",
        "print(tensor_from_numpy)"
      ],
      "metadata": {
        "colab": {
          "base_uri": "https://localhost:8080/"
        },
        "id": "aQyFbFX3cUag",
        "outputId": "3a0f187f-e902-42c0-cca8-c3a529e250b7"
      },
      "execution_count": null,
      "outputs": [
        {
          "output_type": "stream",
          "name": "stdout",
          "text": [
            "tensor([[1, 2],\n",
            "        [3, 4]])\n"
          ]
        }
      ]
    },
    {
      "cell_type": "markdown",
      "source": [
        "### Create special tensors"
      ],
      "metadata": {
        "id": "5UJXVACLcjR0"
      }
    },
    {
      "cell_type": "code",
      "source": [
        "zeros_tensor = torch.zeros(2,3)\n",
        "print(zeros_tensor)"
      ],
      "metadata": {
        "colab": {
          "base_uri": "https://localhost:8080/"
        },
        "id": "lcXekMoXci-l",
        "outputId": "7f6340cd-8add-4597-c093-61afbf207e11"
      },
      "execution_count": null,
      "outputs": [
        {
          "output_type": "stream",
          "name": "stdout",
          "text": [
            "tensor([[0., 0., 0.],\n",
            "        [0., 0., 0.]])\n"
          ]
        }
      ]
    },
    {
      "cell_type": "code",
      "source": [
        "ones_tensor = torch.ones(2,3)\n",
        "print(ones_tensor)"
      ],
      "metadata": {
        "colab": {
          "base_uri": "https://localhost:8080/"
        },
        "id": "oZgtR3Qncx4N",
        "outputId": "a3193582-1ebc-48bf-ec42-361564e880f8"
      },
      "execution_count": null,
      "outputs": [
        {
          "output_type": "stream",
          "name": "stdout",
          "text": [
            "tensor([[1., 1., 1.],\n",
            "        [1., 1., 1.]])\n"
          ]
        }
      ]
    },
    {
      "cell_type": "markdown",
      "source": [
        "#### Noraml Distribution\n",
        "* Creates a 2×3 matrix of random numbers.\n",
        "* Each number is sampled from a normal distribution (mean = 0, standard deviation = 1).\n",
        "* We use it when we want to test or **initialize models with random inputs**."
      ],
      "metadata": {
        "id": "wDifOTOsdiWK"
      }
    },
    {
      "cell_type": "code",
      "source": [
        "random_tensor = torch.randn(2,3)\n",
        "print(random_tensor)"
      ],
      "metadata": {
        "colab": {
          "base_uri": "https://localhost:8080/"
        },
        "id": "Vt7GAjWYc6Y8",
        "outputId": "ce88134a-d318-4e9c-f788-a4ecc679d5c5"
      },
      "execution_count": null,
      "outputs": [
        {
          "output_type": "stream",
          "name": "stdout",
          "text": [
            "tensor([[ 1.4036,  2.1154,  0.0914],\n",
            "        [ 0.5143, -0.0195,  0.3732]])\n"
          ]
        }
      ]
    },
    {
      "cell_type": "markdown",
      "source": [
        "#### Uniform Distribution\n",
        "* Creates a 2×3 matrix with random numbers between 0 and 1.\n",
        "* The numbers come from a uniform distribution.\n",
        "* We use it to test or **initialize models when we want values in a known range**."
      ],
      "metadata": {
        "id": "O1xXrcX9dpcT"
      }
    },
    {
      "cell_type": "code",
      "source": [
        "uniform_tensor = torch.rand(2,3)\n",
        "print(uniform_tensor)"
      ],
      "metadata": {
        "colab": {
          "base_uri": "https://localhost:8080/"
        },
        "id": "EMd1h_P-dOYw",
        "outputId": "56381332-4af2-43f9-e003-a5fdec7705d2"
      },
      "execution_count": null,
      "outputs": [
        {
          "output_type": "stream",
          "name": "stdout",
          "text": [
            "tensor([[0.7950, 0.3591, 0.3056],\n",
            "        [0.8326, 0.7021, 0.7701]])\n"
          ]
        }
      ]
    },
    {
      "cell_type": "markdown",
      "source": [
        "### Create sequence tensors"
      ],
      "metadata": {
        "id": "MJ5ryNnVeYqQ"
      }
    },
    {
      "cell_type": "code",
      "source": [
        "range_tensor = torch.arange(0, 10, 2)\n",
        "print(range_tensor)"
      ],
      "metadata": {
        "colab": {
          "base_uri": "https://localhost:8080/"
        },
        "id": "_rGD2IDkehtJ",
        "outputId": "28335d0b-605f-4d52-abb7-f1bdc432eae1"
      },
      "execution_count": null,
      "outputs": [
        {
          "output_type": "stream",
          "name": "stdout",
          "text": [
            "tensor([0, 2, 4, 6, 8])\n"
          ]
        }
      ]
    },
    {
      "cell_type": "code",
      "source": [
        "linspace_tensor = torch.linspace(0, 1, 5)\n",
        "print(linspace_tensor)"
      ],
      "metadata": {
        "colab": {
          "base_uri": "https://localhost:8080/"
        },
        "id": "O1t6RVV0fImD",
        "outputId": "408befc1-8ea6-4315-c16a-bada81bdf07a"
      },
      "execution_count": null,
      "outputs": [
        {
          "output_type": "stream",
          "name": "stdout",
          "text": [
            "tensor([0.0000, 0.2500, 0.5000, 0.7500, 1.0000])\n"
          ]
        }
      ]
    },
    {
      "cell_type": "markdown",
      "source": [
        "## Tensor Operations"
      ],
      "metadata": {
        "id": "Brqo2AUli9io"
      }
    },
    {
      "cell_type": "code",
      "source": [
        "tensor_a = torch.tensor([[1,2], [3, 4]], dtype=torch.float32)\n",
        "tensor_b = torch.tensor([[5, 6], [7, 8]], dtype=torch.float32)\n",
        "print(tensor_a)\n",
        "print(tensor_b)"
      ],
      "metadata": {
        "colab": {
          "base_uri": "https://localhost:8080/"
        },
        "id": "jYZZEoI8i5Wa",
        "outputId": "aae3d54f-ca6a-4af0-fcde-a6d6d06d4ab1"
      },
      "execution_count": null,
      "outputs": [
        {
          "output_type": "stream",
          "name": "stdout",
          "text": [
            "tensor([[1., 2.],\n",
            "        [3., 4.]])\n",
            "tensor([[5., 6.],\n",
            "        [7., 8.]])\n"
          ]
        }
      ]
    },
    {
      "cell_type": "markdown",
      "source": [
        "### Basic Arithmetric Operations"
      ],
      "metadata": {
        "id": "10cNQO1hj0wk"
      }
    },
    {
      "cell_type": "code",
      "source": [
        "addition_res = tensor_a + tensor_b\n",
        "print(addition_res)"
      ],
      "metadata": {
        "colab": {
          "base_uri": "https://localhost:8080/"
        },
        "id": "KMaJ8lZwj99H",
        "outputId": "d6a2551e-34e9-4ffd-e289-4d189c170851"
      },
      "execution_count": null,
      "outputs": [
        {
          "output_type": "stream",
          "name": "stdout",
          "text": [
            "tensor([[ 6.,  8.],\n",
            "        [10., 12.]])\n"
          ]
        }
      ]
    },
    {
      "cell_type": "code",
      "source": [
        "substraction_res = tensor_a - tensor_b\n",
        "print(substraction_res)"
      ],
      "metadata": {
        "colab": {
          "base_uri": "https://localhost:8080/"
        },
        "id": "9KvF8ekKkFq6",
        "outputId": "77ac26b6-bd36-4ce9-973f-289ad61913c6"
      },
      "execution_count": null,
      "outputs": [
        {
          "output_type": "stream",
          "name": "stdout",
          "text": [
            "tensor([[-4., -4.],\n",
            "        [-4., -4.]])\n"
          ]
        }
      ]
    },
    {
      "cell_type": "code",
      "source": [
        "multiplication_res = tensor_a * tensor_b\n",
        "print(multiplication_res)"
      ],
      "metadata": {
        "colab": {
          "base_uri": "https://localhost:8080/"
        },
        "id": "_AA_aPWFkMg5",
        "outputId": "b968f771-c96e-4e2c-f2bc-36c19484fd76"
      },
      "execution_count": null,
      "outputs": [
        {
          "output_type": "stream",
          "name": "stdout",
          "text": [
            "tensor([[ 5., 12.],\n",
            "        [21., 32.]])\n"
          ]
        }
      ]
    },
    {
      "cell_type": "code",
      "source": [
        "division_res = tensor_a / tensor_b\n",
        "print(division_res)"
      ],
      "metadata": {
        "colab": {
          "base_uri": "https://localhost:8080/"
        },
        "id": "Olv1SgPYkW0T",
        "outputId": "8fe1f50b-c8cf-4573-fdda-34a8bfe9c817"
      },
      "execution_count": null,
      "outputs": [
        {
          "output_type": "stream",
          "name": "stdout",
          "text": [
            "tensor([[0.2000, 0.3333],\n",
            "        [0.4286, 0.5000]])\n"
          ]
        }
      ]
    },
    {
      "cell_type": "markdown",
      "source": [
        "### Matrix Operation"
      ],
      "metadata": {
        "id": "t3FXBPl_kgsc"
      }
    },
    {
      "cell_type": "markdown",
      "source": [
        "#### Multiplication"
      ],
      "metadata": {
        "id": "utlsWrGIkpif"
      }
    },
    {
      "cell_type": "markdown",
      "source": [
        "[[1, 2],      [[5, 6],  \n",
        " [3, 4]]       [7, 8]]\n",
        "    \n"
      ],
      "metadata": {
        "id": "XlRGHR1ylrhq"
      }
    },
    {
      "cell_type": "markdown",
      "source": [
        "##### [Broadcasting semantics](https://docs.pytorch.org/docs/stable/notes/broadcasting.html#broadcasting-semantics)\n",
        "✅ Broadcasting Rules (PyTorch)\n",
        "Two tensors are broadcastable if:\n",
        "1. Both tensors have at least one dimension.\n",
        "2. For each dimension (**starting from the last**):\n",
        "  * The sizes are equal, or\n",
        "  * One of the sizes is 1, or\n",
        "  * The dimension does not exist in one tensor (i.e., it will be padded with 1).\n",
        "\n",
        "```python\n",
        "# same shapes are always broadcastable (i.e. the above rules always hold)\n",
        "x=torch.empty(5,7,3)\n",
        "y=torch.empty(5,7,3)\n",
        "\n",
        "x=torch.empty((0,))\n",
        "y=torch.empty(2,2)\n",
        "# x and y are not broadcastable, because x does not have at least 1 dimension\n",
        "\n",
        "# can line up trailing dimensions\n",
        "x=torch.empty(5,3,4,1)\n",
        "y=torch.empty(  3,1,1)\n",
        "# x and y are broadcastable.\n",
        "# 1st trailing dimension: both have size 1\n",
        "# 2nd trailing dimension: y has size 1\n",
        "# 3rd trailing dimension: x size == y size\n",
        "# 4th trailing dimension: y dimension doesn't exist\n",
        "\n",
        "x=torch.empty(5,2,4,1)\n",
        "y=torch.empty(  3,1,1)\n",
        "# x and y are not broadcastable, because in the 3rd trailing dimension 2 != 3\n",
        "```\n",
        "\n"
      ],
      "metadata": {
        "id": "l6_cYg7LoELC"
      }
    },
    {
      "cell_type": "markdown",
      "source": [
        "##### torch.mm vs. torch.matmul\n",
        "\n",
        "| Feature              | `torch.mm`                              | `torch.matmul`                                               |\n",
        "| -------------------- | --------------------------------------- | ------------------------------------------------------------ |\n",
        "| Supported dimensions | **Only works on 2D tensors**            | Works on **1D, 2D, and higher-dimensional tensors**          |\n",
        "| Broadcasting         | ❌ Not supported                         | ✅ Supported (for batched matrix multiplication)              |\n",
        "| Flexibility          | Fixed input shapes: `(m, n)` × `(n, p)` | Flexible: supports vector × matrix, matrix × matrix, batched |\n",
        "| Typical use case     | Simple matrix multiplication            | Batched matrix multiplication or vector-matrix operations    |\n"
      ],
      "metadata": {
        "id": "_ILjxGHavDYh"
      }
    },
    {
      "cell_type": "code",
      "source": [
        "matrix_mul_res = torch.matmul(tensor_a, tensor_b)\n",
        "print(matrix_mul_res)"
      ],
      "metadata": {
        "colab": {
          "base_uri": "https://localhost:8080/"
        },
        "id": "fVcoVXQMkdHL",
        "outputId": "6853ad90-97ca-4bfc-b1b3-53e05f43287c"
      },
      "execution_count": null,
      "outputs": [
        {
          "output_type": "stream",
          "name": "stdout",
          "text": [
            "tensor([[19., 22.],\n",
            "        [43., 50.]])\n"
          ]
        }
      ]
    },
    {
      "cell_type": "markdown",
      "source": [
        "#### Dot Production\n",
        "* Computes the dot product of two 1D tensors.\n",
        "```\n",
        "a = [a₁, a₂, ..., aₙ]\n",
        "b = [b₁, b₂, ..., bₙ]\n",
        "a • b = a₁·b₁ + a₂·b₂ + ... + aₙ·bₙ\n",
        "```"
      ],
      "metadata": {
        "id": "98r1Pg9kmHL3"
      }
    },
    {
      "cell_type": "code",
      "source": [
        "print(tensor_a.shape)\n",
        "tensor_a_flat = tensor_a.flatten()\n",
        "print(tensor_a_flat.shape)"
      ],
      "metadata": {
        "colab": {
          "base_uri": "https://localhost:8080/"
        },
        "id": "U2y3gYTZwk34",
        "outputId": "7e8e978d-00db-4477-82e1-d198394ef299"
      },
      "execution_count": null,
      "outputs": [
        {
          "output_type": "stream",
          "name": "stdout",
          "text": [
            "torch.Size([2, 2])\n",
            "torch.Size([4])\n"
          ]
        }
      ]
    },
    {
      "cell_type": "code",
      "source": [
        "print(tensor_b.shape)\n",
        "tensor_b_flat = tensor_b.flatten()\n",
        "print(tensor_b_flat.shape)"
      ],
      "metadata": {
        "colab": {
          "base_uri": "https://localhost:8080/"
        },
        "id": "Oyy_5iM0w1fS",
        "outputId": "6c28bd1a-0773-4f17-b6d9-55a50b728351"
      },
      "execution_count": null,
      "outputs": [
        {
          "output_type": "stream",
          "name": "stdout",
          "text": [
            "torch.Size([2, 2])\n",
            "torch.Size([4])\n"
          ]
        }
      ]
    },
    {
      "cell_type": "code",
      "source": [
        "dot_product_res = torch.dot(tensor_a_flat, tensor_b_flat)\n",
        "print(dot_product_res)"
      ],
      "metadata": {
        "colab": {
          "base_uri": "https://localhost:8080/"
        },
        "id": "Fjfz2CUjmJVY",
        "outputId": "efed4eb8-0238-4f8c-f3b9-621dd70ad4eb"
      },
      "execution_count": null,
      "outputs": [
        {
          "output_type": "stream",
          "name": "stdout",
          "text": [
            "tensor(70.)\n"
          ]
        }
      ]
    },
    {
      "cell_type": "markdown",
      "source": [
        "### Statistical Operations"
      ],
      "metadata": {
        "id": "sfY4_GgPw9j-"
      }
    },
    {
      "cell_type": "code",
      "source": [
        "print(torch.sum(tensor_a))"
      ],
      "metadata": {
        "colab": {
          "base_uri": "https://localhost:8080/"
        },
        "id": "G-pnOoZdxD_l",
        "outputId": "e30276c4-41f0-44a8-9fbf-77bd3fcc6c97"
      },
      "execution_count": null,
      "outputs": [
        {
          "output_type": "stream",
          "name": "stdout",
          "text": [
            "tensor(10.)\n"
          ]
        }
      ]
    },
    {
      "cell_type": "code",
      "source": [
        "print(torch.mean(tensor_a))"
      ],
      "metadata": {
        "colab": {
          "base_uri": "https://localhost:8080/"
        },
        "id": "uC9fHaHTxLHX",
        "outputId": "10bbef5e-ab1a-4bcc-bc9e-2d99ceead5d4"
      },
      "execution_count": null,
      "outputs": [
        {
          "output_type": "stream",
          "name": "stdout",
          "text": [
            "tensor(2.5000)\n"
          ]
        }
      ]
    },
    {
      "cell_type": "code",
      "source": [
        "print(torch.max(tensor_a))"
      ],
      "metadata": {
        "colab": {
          "base_uri": "https://localhost:8080/"
        },
        "id": "fcsQdZ_NxOMN",
        "outputId": "4483421e-f1e2-49df-d4e9-b71bea2f2127"
      },
      "execution_count": null,
      "outputs": [
        {
          "output_type": "stream",
          "name": "stdout",
          "text": [
            "tensor(4.)\n"
          ]
        }
      ]
    },
    {
      "cell_type": "code",
      "source": [
        "print(torch.min(tensor_a))"
      ],
      "metadata": {
        "colab": {
          "base_uri": "https://localhost:8080/"
        },
        "id": "iCbHqB0OxTtE",
        "outputId": "d9248155-c905-4c24-bb6d-e92ab9e015e4"
      },
      "execution_count": null,
      "outputs": [
        {
          "output_type": "stream",
          "name": "stdout",
          "text": [
            "tensor(1.)\n"
          ]
        }
      ]
    },
    {
      "cell_type": "markdown",
      "source": [
        "##### ✅ torch.std(tensor_a)\n",
        "\n",
        "```python\n",
        "torch.std(tensor_a)\n",
        "```\n",
        "\n",
        "* Flattens the tensor to: `[1, 2, 3, 4]`\n",
        "* Calculates **standard deviation** with `unbiased=True` (i.e. divides by `N - 1`)\n",
        "\n",
        "### 📐 Calculation:\n",
        "\n",
        "* Total elements: `N = 4`\n",
        "\n",
        "* Mean:\n",
        "\n",
        "  $$\n",
        "  \\bar{x} = \\frac{1 + 2 + 3 + 4}{4} = 2.5\n",
        "  $$\n",
        "\n",
        "* Squared differences:\n",
        "\n",
        "  $$\n",
        "  (1 - 2.5)^2 + (2 - 2.5)^2 + (3 - 2.5)^2 + (4 - 2.5)^2 = 5.0\n",
        "  $$\n",
        "\n",
        "* Standard deviation (unbiased):\n",
        "\n",
        "  $$\n",
        "  \\sqrt{\\frac{5.0}{3}} ≈ 1.291\n",
        "  $$\n",
        "\n",
        "```python\n",
        "print(torch.std(x))  # tensor(1.2910)\n",
        "```\n",
        "\n",
        "---\n",
        "\n",
        "## ✅ Compute Standard Deviation by Dimension\n",
        "\n",
        "### `dim=0` – Column-wise\n",
        "\n",
        "```python\n",
        "torch.std(x, dim=0)\n",
        "```\n",
        "\n",
        "* Column 0: \\[1, 3] → mean = 2\n",
        "\n",
        "  $$\n",
        "  \\sqrt{(1 - 2)^2 + (3 - 2)^2} = \\sqrt{2} ≈ 1.4142\n",
        "  $$\n",
        "* Column 1: \\[2, 4] → mean = 3\n",
        "\n",
        "  $$\n",
        "  \\sqrt{(2 - 3)^2 + (4 - 3)^2} = \\sqrt{2} ≈ 1.4142\n",
        "  $$\n",
        "\n",
        "```python\n",
        "tensor([1.4142, 1.4142])\n",
        "```\n",
        "\n",
        "---\n",
        "\n",
        "### `dim=1` – Row-wise\n",
        "\n",
        "```python\n",
        "torch.std(x, dim=1)\n",
        "```\n",
        "\n",
        "* Row 0: \\[1, 2] → mean = 1.5\n",
        "\n",
        "  $$\n",
        "  \\sqrt{(1 - 1.5)^2 + (2 - 1.5)^2} = \\sqrt{0.5} ≈ 0.7071\n",
        "  $$\n",
        "* Row 1: \\[3, 4] → mean = 3.5\n",
        "\n",
        "  $$\n",
        "  \\sqrt{(3 - 3.5)^2 + (4 - 3.5)^2} = \\sqrt{0.5} ≈ 0.7071\n",
        "  $$\n",
        "\n",
        "```python\n",
        "tensor([0.7071, 0.7071])\n",
        "```\n",
        "\n",
        "---\n",
        "\n",
        "## 📝 Notes\n",
        "\n",
        "* `torch.std(x)` uses `unbiased=True` by default (sample standard deviation)\n",
        "* Use `unbiased=False` for population standard deviation:\n",
        "\n",
        "  ```python\n",
        "  torch.std(x, unbiased=False)\n",
        "  ```"
      ],
      "metadata": {
        "id": "Mc6ZKHzDyN6R"
      }
    },
    {
      "cell_type": "markdown",
      "source": [
        "##### ✅ What is \"degrees of freedom\"?\n",
        "\n",
        "**Degrees of freedom (DoF)** means:\n",
        "\n",
        "> \"How many numbers can vary freely when you calculate something.\""
      ],
      "metadata": {
        "id": "ypfPiHz2zebu"
      }
    },
    {
      "cell_type": "markdown",
      "source": [
        "##### 🎯 Why is it **N − 1** when calculating standard deviation?\n",
        "\n",
        "When you calculate standard deviation from a sample, you **first** compute the **mean** (average).\n",
        "Once the mean is fixed, **only (N − 1)** numbers can vary freely.\n",
        "\n",
        "📌 Example:\n",
        "\n",
        "Imagine you have 3 numbers, but you already calculated the mean.\n",
        "\n",
        "```python\n",
        "a + b + c = 30   →  mean = 10\n",
        "```\n",
        "\n",
        "If you choose **any two** numbers (say, `a = 8`, `b = 9`),\n",
        "then the **third** number `c` is already fixed:\n",
        "\n",
        "```\n",
        "c = 30 - a - b = 30 - 8 - 9 = 13\n",
        "```\n",
        "\n",
        "➡️ Only **2 numbers** can vary freely.\n",
        "So: **degrees of freedom = 3 − 1 = 2**\n",
        "\n",
        "---\n",
        "\n",
        "## 🧠 Why does this matter?\n",
        "\n",
        "When calculating variance or standard deviation:\n",
        "\n",
        "* You are using the **sample mean**, not the true mean.\n",
        "* That **uses up one degree of freedom**.\n",
        "* So, divide by **N − 1** to correct for that.\n",
        "\n",
        "This helps your result better **match the true population**.\n",
        "\n",
        "---\n",
        "\n",
        "✅ Summary\n",
        "\n",
        "| Concept               | Meaning                            |\n",
        "| --------------------- | ---------------------------------- |\n",
        "| Degrees of Freedom    | How many values can vary freely    |\n",
        "| In standard deviation | Subtract 1 because mean is used    |\n",
        "| So use N−1            | To make the estimate more accurate |"
      ],
      "metadata": {
        "id": "WZSwGbPIzxG9"
      }
    },
    {
      "cell_type": "markdown",
      "source": [
        "##### 📊 Variance vs Standard Deviation in PyTorch\n",
        "\n",
        "| Feature                | **Variance** (`torch.var`)             | **Standard Deviation** (`torch.std`)    |\n",
        "| ---------------------- | -------------------------------------- | --------------------------------------- |\n",
        "| **Meaning**            | Average squared distance from the mean | Square root of variance                 |\n",
        "| **Measures**           | How spread out the data is             | Same, but in original units             |\n",
        "| **Formula**            | $\\frac{1}{N-1} \\sum (x_i - \\bar{x})^2$ | $\\sqrt{\\text{variance}}$                |\n",
        "| **Biased vs Unbiased** | Controlled by `unbiased=True/False`    | Same                                    |\n",
        "| **Output Unit**        | Squared unit (e.g., cm², dollars²)     | Same as input (e.g., cm, dollars)       |\n",
        "| **Use in Practice**    | Used in math/stats formulas            | Used when we want human-readable spread |\n",
        "| **In PyTorch**         | `torch.var(x)`                         | `torch.std(x)`                          |"
      ],
      "metadata": {
        "id": "z9ATqrZ50msM"
      }
    },
    {
      "cell_type": "code",
      "source": [
        "print(torch.std(tensor_a))"
      ],
      "metadata": {
        "colab": {
          "base_uri": "https://localhost:8080/"
        },
        "id": "mdp_EbQGxYB6",
        "outputId": "8a381fcc-11d6-49bf-9b6c-5348cdfa4dfc"
      },
      "execution_count": null,
      "outputs": [
        {
          "output_type": "stream",
          "name": "stdout",
          "text": [
            "tensor(1.2910)\n"
          ]
        }
      ]
    },
    {
      "cell_type": "markdown",
      "source": [
        "### Tensor Shape Operations"
      ],
      "metadata": {
        "id": "qM2flbqv02xb"
      }
    },
    {
      "cell_type": "code",
      "source": [
        "input_tensor = torch.randn(2, 3, 4)\n",
        "print(input_tensor)"
      ],
      "metadata": {
        "colab": {
          "base_uri": "https://localhost:8080/"
        },
        "id": "0yAYHauL05cw",
        "outputId": "f447028a-8532-4915-c3e9-25a67dca4bfa"
      },
      "execution_count": null,
      "outputs": [
        {
          "output_type": "stream",
          "name": "stdout",
          "text": [
            "tensor([[[ 1.3921, -0.0109,  0.9984, -1.5708],\n",
            "         [-0.6491,  1.5410,  0.1815,  0.1415],\n",
            "         [-0.2805, -0.3807,  0.3349, -2.4612]],\n",
            "\n",
            "        [[-0.9851,  1.1713,  0.9401, -0.7365],\n",
            "         [ 0.4465,  0.2034, -1.0256, -1.3213],\n",
            "         [ 0.8487,  1.4109,  0.5559, -0.4591]]])\n"
          ]
        }
      ]
    },
    {
      "cell_type": "markdown",
      "source": [
        "#### Reshape Tensor"
      ],
      "metadata": {
        "id": "zJzF-RdK1JKB"
      }
    },
    {
      "cell_type": "markdown",
      "source": [
        "##### Tensor.view(*shape) → Tensor\n",
        "* Returns a new tensor with the same data as the self tensor but of a different shape."
      ],
      "metadata": {
        "id": "_tQGaiGB11PP"
      }
    },
    {
      "cell_type": "code",
      "source": [
        "reshaped_tensor = input_tensor.view(6, 4)\n",
        "print(reshaped_tensor)"
      ],
      "metadata": {
        "colab": {
          "base_uri": "https://localhost:8080/"
        },
        "id": "veVah3ET1Is2",
        "outputId": "13503e00-7ea6-4bae-8bed-0b36b8d73d32"
      },
      "execution_count": null,
      "outputs": [
        {
          "output_type": "stream",
          "name": "stdout",
          "text": [
            "tensor([[ 1.3921, -0.0109,  0.9984, -1.5708],\n",
            "        [-0.6491,  1.5410,  0.1815,  0.1415],\n",
            "        [-0.2805, -0.3807,  0.3349, -2.4612],\n",
            "        [-0.9851,  1.1713,  0.9401, -0.7365],\n",
            "        [ 0.4465,  0.2034, -1.0256, -1.3213],\n",
            "        [ 0.8487,  1.4109,  0.5559, -0.4591]])\n"
          ]
        }
      ]
    },
    {
      "cell_type": "code",
      "source": [
        "reshaped_tensor = input_tensor.view(-1, 4) # the size -1 is inferred from other dimensions\n",
        "print(reshaped_tensor)"
      ],
      "metadata": {
        "colab": {
          "base_uri": "https://localhost:8080/"
        },
        "id": "_sceJVr02NL3",
        "outputId": "1d298e6b-b23c-4d8d-bbb8-64d623434e0c"
      },
      "execution_count": null,
      "outputs": [
        {
          "output_type": "stream",
          "name": "stdout",
          "text": [
            "tensor([[ 1.3921, -0.0109,  0.9984, -1.5708],\n",
            "        [-0.6491,  1.5410,  0.1815,  0.1415],\n",
            "        [-0.2805, -0.3807,  0.3349, -2.4612],\n",
            "        [-0.9851,  1.1713,  0.9401, -0.7365],\n",
            "        [ 0.4465,  0.2034, -1.0256, -1.3213],\n",
            "        [ 0.8487,  1.4109,  0.5559, -0.4591]])\n"
          ]
        }
      ]
    },
    {
      "cell_type": "markdown",
      "source": [
        "##### Tensor.reshape(*shape) → Tensor\n",
        "* Returns a tensor with the same data and number of elements as self but with the specified shape.\n",
        "\n"
      ],
      "metadata": {
        "id": "3T2fRIN323s9"
      }
    },
    {
      "cell_type": "code",
      "source": [
        "reshaped_safe_tensor = input_tensor.reshape(3, 8)\n",
        "print(reshaped_safe_tensor)"
      ],
      "metadata": {
        "colab": {
          "base_uri": "https://localhost:8080/"
        },
        "id": "6ryEQCrm3GyC",
        "outputId": "68ec95b1-b988-4178-f809-6e2b0e9cc7c9"
      },
      "execution_count": null,
      "outputs": [
        {
          "output_type": "stream",
          "name": "stdout",
          "text": [
            "tensor([[ 1.3921, -0.0109,  0.9984, -1.5708, -0.6491,  1.5410,  0.1815,  0.1415],\n",
            "        [-0.2805, -0.3807,  0.3349, -2.4612, -0.9851,  1.1713,  0.9401, -0.7365],\n",
            "        [ 0.4465,  0.2034, -1.0256, -1.3213,  0.8487,  1.4109,  0.5559, -0.4591]])\n"
          ]
        }
      ]
    },
    {
      "cell_type": "markdown",
      "source": [
        "##### tensor.view() vs tensor.reshape()\n",
        "| Feature                | `tensor.view()`                       | `tensor.reshape()`                          |\n",
        "| ---------------------- | ------------------------------------- | ------------------------------------------- |\n",
        "| **Purpose**            | Change the shape of a tensor          | Also changes the shape of a tensor          |\n",
        "| **Must be contiguous** | ✅ Yes, **requires contiguous memory** | ❌ No, will create a copy if needed          |\n",
        "| **Returns**            | A view (no copy, same memory)         | May return a view or a copy                 |\n",
        "| **Speed**              | Faster (if tensor is contiguous)      | Slightly slower (handles more cases)        |\n",
        "| **When to use**        | When you're sure tensor is contiguous | Safer if you're unsure or doing complex ops |\n"
      ],
      "metadata": {
        "id": "tI4c8gVL3gAp"
      }
    },
    {
      "cell_type": "markdown",
      "source": [
        "##### 📘 What does \"contiguous\" mean?\n",
        "* A contiguous tensor is **stored in memory without gaps**.\n",
        "* Some operations (like **transpose**) make tensors **non-contiguous**."
      ],
      "metadata": {
        "id": "sUW8yM4m3mk8"
      }
    },
    {
      "cell_type": "code",
      "source": [
        "x = torch.randn(2,3)\n",
        "print(x)\n",
        "print(x.shape)\n",
        "print(\"x is contigious: \" + \"True\" if x.is_contiguous() else \"False\")"
      ],
      "metadata": {
        "colab": {
          "base_uri": "https://localhost:8080/"
        },
        "id": "VQGfDKBy3Svr",
        "outputId": "0e34b177-d186-48c5-abab-eb04d4413b9a"
      },
      "execution_count": null,
      "outputs": [
        {
          "output_type": "stream",
          "name": "stdout",
          "text": [
            "tensor([[ 0.8279,  1.1723, -0.1284],\n",
            "        [-2.5598, -0.5642,  1.3806]])\n",
            "torch.Size([2, 3])\n",
            "x is contigious: True\n"
          ]
        }
      ]
    },
    {
      "cell_type": "code",
      "source": [
        "y = x.T\n",
        "print(y)\n",
        "print(y.shape)\n",
        "print(\"y is contigious: \" + (\"True\" if y.is_contiguous() else \"False\"))"
      ],
      "metadata": {
        "colab": {
          "base_uri": "https://localhost:8080/"
        },
        "id": "bahiVNlq3Sid",
        "outputId": "348aed33-4ead-4414-f813-0eac2b920b5d"
      },
      "execution_count": null,
      "outputs": [
        {
          "output_type": "stream",
          "name": "stdout",
          "text": [
            "tensor([[ 0.8279, -2.5598],\n",
            "        [ 1.1723, -0.5642],\n",
            "        [-0.1284,  1.3806]])\n",
            "torch.Size([3, 2])\n",
            "y is contigious: False\n"
          ]
        }
      ]
    },
    {
      "cell_type": "markdown",
      "source": [
        "#### Transpose"
      ],
      "metadata": {
        "id": "PPArUE8t5AYH"
      }
    },
    {
      "cell_type": "code",
      "source": [
        "input_tensor = torch.randn(2,3,4)\n",
        "print(input_tensor)"
      ],
      "metadata": {
        "colab": {
          "base_uri": "https://localhost:8080/"
        },
        "id": "eG8_4JPH47nc",
        "outputId": "97c8a317-cfbd-4538-a4b4-a4775dde6c5e"
      },
      "execution_count": null,
      "outputs": [
        {
          "output_type": "stream",
          "name": "stdout",
          "text": [
            "tensor([[[ 0.1172,  0.9665,  2.7091, -0.5076],\n",
            "         [ 1.3727, -0.5623,  0.1293, -1.0053],\n",
            "         [ 0.2673, -0.2771, -1.0179,  0.4450]],\n",
            "\n",
            "        [[-1.7280,  0.8289,  0.5729,  0.2220],\n",
            "         [-0.6247, -0.1284, -1.5718,  1.4067],\n",
            "         [-0.5254, -0.7060,  1.8072, -0.9697]]])\n"
          ]
        }
      ]
    },
    {
      "cell_type": "markdown",
      "source": [
        "#####  Tensor.transpose(dim0, dim1) → Tensor\n",
        "Returns a tensor that is a transposed version of input. The given dimensions **dim0 and dim1 are swapped**.\n",
        "\n"
      ],
      "metadata": {
        "id": "p3k9B8QB6jF3"
      }
    },
    {
      "cell_type": "code",
      "source": [
        "transposed_tensor = input_tensor.transpose(0, 2)\n",
        "print(transposed_tensor)\n",
        "print(\"----\")\n",
        "print(\"is contigious: \" + (\"True\" if transposed_tensor.is_contiguous() else \"False\"))"
      ],
      "metadata": {
        "colab": {
          "base_uri": "https://localhost:8080/"
        },
        "id": "0HFygGK55yK_",
        "outputId": "603f860d-70f0-4ebb-e197-920ef2220fcb"
      },
      "execution_count": null,
      "outputs": [
        {
          "output_type": "stream",
          "name": "stdout",
          "text": [
            "tensor([[[ 0.1172, -1.7280],\n",
            "         [ 1.3727, -0.6247],\n",
            "         [ 0.2673, -0.5254]],\n",
            "\n",
            "        [[ 0.9665,  0.8289],\n",
            "         [-0.5623, -0.1284],\n",
            "         [-0.2771, -0.7060]],\n",
            "\n",
            "        [[ 2.7091,  0.5729],\n",
            "         [ 0.1293, -1.5718],\n",
            "         [-1.0179,  1.8072]],\n",
            "\n",
            "        [[-0.5076,  0.2220],\n",
            "         [-1.0053,  1.4067],\n",
            "         [ 0.4450, -0.9697]]])\n",
            "----\n",
            "is contigious: False\n"
          ]
        }
      ]
    },
    {
      "cell_type": "markdown",
      "source": [
        "#### Squeeze and unsequeeze dimensions"
      ],
      "metadata": {
        "id": "f4o5dbsz6P2C"
      }
    },
    {
      "cell_type": "markdown",
      "source": [
        "##### tensor.squeeze()\n",
        "* Returns a tensor with all specified dimensions of input of size 1 removed.\n",
        "\n",
        "[![Screenshot-2025-07-20-at-12-42-47-PM.png](https://i.postimg.cc/yNrbw5YR/Screenshot-2025-07-20-at-12-42-47-PM.png)](https://postimg.cc/xkM5m6mj)"
      ],
      "metadata": {
        "id": "fRUU55Kb69rD"
      }
    },
    {
      "cell_type": "code",
      "source": [
        "x = torch.ones(2,1,2,2,1)\n",
        "print(x.shape)\n",
        "print(x)"
      ],
      "metadata": {
        "colab": {
          "base_uri": "https://localhost:8080/"
        },
        "id": "nBeipFqW55U1",
        "outputId": "a67d761a-82da-4090-c1c4-c0b2e424dd09"
      },
      "execution_count": null,
      "outputs": [
        {
          "output_type": "stream",
          "name": "stdout",
          "text": [
            "torch.Size([2, 1, 2, 2, 1])\n",
            "tensor([[[[[1.],\n",
            "           [1.]],\n",
            "\n",
            "          [[1.],\n",
            "           [1.]]]],\n",
            "\n",
            "\n",
            "\n",
            "        [[[[1.],\n",
            "           [1.]],\n",
            "\n",
            "          [[1.],\n",
            "           [1.]]]]])\n"
          ]
        }
      ]
    },
    {
      "cell_type": "code",
      "source": [
        "y = x.squeeze()\n",
        "print(y.shape)\n",
        "print(y)"
      ],
      "metadata": {
        "colab": {
          "base_uri": "https://localhost:8080/"
        },
        "id": "MSp1_dg28JTX",
        "outputId": "d5c1cdbf-bde6-47f1-fdf2-0728a95677d4"
      },
      "execution_count": null,
      "outputs": [
        {
          "output_type": "stream",
          "name": "stdout",
          "text": [
            "torch.Size([2, 2, 2])\n",
            "tensor([[[1., 1.],\n",
            "         [1., 1.]],\n",
            "\n",
            "        [[1., 1.],\n",
            "         [1., 1.]]])\n"
          ]
        }
      ]
    },
    {
      "cell_type": "code",
      "source": [
        "y = x.squeeze(0)\n",
        "print(y.shape)"
      ],
      "metadata": {
        "colab": {
          "base_uri": "https://localhost:8080/"
        },
        "id": "YCT21HC88mLu",
        "outputId": "cfaf08cd-a04c-4cf5-9e89-55b9c1faef5c"
      },
      "execution_count": null,
      "outputs": [
        {
          "output_type": "stream",
          "name": "stdout",
          "text": [
            "torch.Size([2, 1, 2, 2, 1])\n"
          ]
        }
      ]
    },
    {
      "cell_type": "code",
      "source": [
        "y = x.squeeze(1)\n",
        "print(y.shape)"
      ],
      "metadata": {
        "colab": {
          "base_uri": "https://localhost:8080/"
        },
        "id": "EfnCCGTp8uSd",
        "outputId": "ed0dfd91-8b88-41ae-e6fc-d36c9540d67b"
      },
      "execution_count": null,
      "outputs": [
        {
          "output_type": "stream",
          "name": "stdout",
          "text": [
            "torch.Size([2, 2, 2, 1])\n"
          ]
        }
      ]
    },
    {
      "cell_type": "code",
      "source": [
        "y = x.squeeze((1,2,3,4))\n",
        "print(y.shape)"
      ],
      "metadata": {
        "colab": {
          "base_uri": "https://localhost:8080/"
        },
        "id": "PqwvAtad84LC",
        "outputId": "9407b123-4e55-451c-881b-bd6e0809571f"
      },
      "execution_count": null,
      "outputs": [
        {
          "output_type": "stream",
          "name": "stdout",
          "text": [
            "torch.Size([2, 2, 2])\n"
          ]
        }
      ]
    },
    {
      "cell_type": "markdown",
      "source": [
        "##### tensor.unsqueeze(dim)\n",
        "* dim (int) – the index at which to insert the singleton dimension\n",
        "* Returns a new tensor with a dimension of size 1 inserted at the specified position.\n",
        "* The returned tensor shares the same underlying data with this tensor.\n",
        "* Useful for **reshaping tensors for broadcasting** or neural nets.\n",
        "* Opposite of squeeze() (which removes dimensions of size 1)."
      ],
      "metadata": {
        "id": "aQE7pifT9MZ-"
      }
    },
    {
      "cell_type": "code",
      "source": [
        "x = torch.tensor([1, 2, 3])\n",
        "print(x.shape)"
      ],
      "metadata": {
        "colab": {
          "base_uri": "https://localhost:8080/"
        },
        "id": "hnA96qJJ9kHH",
        "outputId": "2a850f8a-4554-4852-e56c-af29a38dcc32"
      },
      "execution_count": null,
      "outputs": [
        {
          "output_type": "stream",
          "name": "stdout",
          "text": [
            "torch.Size([3])\n"
          ]
        }
      ]
    },
    {
      "cell_type": "code",
      "source": [
        "y = x.unsqueeze(0)\n",
        "print(y.shape)\n",
        "print(y)"
      ],
      "metadata": {
        "colab": {
          "base_uri": "https://localhost:8080/"
        },
        "id": "8wfmn9zo-e5U",
        "outputId": "11940eab-c4d5-4b29-f1e5-ee4db191bb05"
      },
      "execution_count": null,
      "outputs": [
        {
          "output_type": "stream",
          "name": "stdout",
          "text": [
            "torch.Size([1, 3])\n",
            "tensor([[1, 2, 3]])\n"
          ]
        }
      ]
    },
    {
      "cell_type": "code",
      "source": [
        "x = torch.tensor([[1, 2, 3],\n",
        "                  [4, 5, 6]])   # shape: (2, 3)"
      ],
      "metadata": {
        "id": "oO70w-SG-2W-"
      },
      "execution_count": null,
      "outputs": []
    },
    {
      "cell_type": "code",
      "source": [
        "y = torch.unsqueeze(x, 1)  # shape: (2, 1, 3)\n",
        "print(y.shape)"
      ],
      "metadata": {
        "colab": {
          "base_uri": "https://localhost:8080/"
        },
        "id": "HMOe840s-6Hn",
        "outputId": "211deda9-d4f5-4600-e8dc-f7e29e202b61"
      },
      "execution_count": null,
      "outputs": [
        {
          "output_type": "stream",
          "name": "stdout",
          "text": [
            "torch.Size([2, 1, 3])\n"
          ]
        }
      ]
    },
    {
      "cell_type": "markdown",
      "source": [
        "#### Concatenate Tensors"
      ],
      "metadata": {
        "id": "kLMlGCOR_RoW"
      }
    },
    {
      "cell_type": "code",
      "source": [
        "tensor_a = torch.tensor([[1, 2, 3], [4, 5, 6]])\n",
        "print(tensor_a.shape)\n",
        "print(tensor_a)\n",
        "\n",
        "print(\"---\")\n",
        "\n",
        "tensor_b= torch.tensor([[7, 8, 9], [10, 11, 12]])\n",
        "print(tensor_a.shape)\n",
        "print(tensor_b)"
      ],
      "metadata": {
        "colab": {
          "base_uri": "https://localhost:8080/"
        },
        "id": "DDYxCApp_YB_",
        "outputId": "635e174d-00b0-4513-8e0e-6dc60ce72bc4"
      },
      "execution_count": null,
      "outputs": [
        {
          "output_type": "stream",
          "name": "stdout",
          "text": [
            "torch.Size([2, 3])\n",
            "tensor([[1, 2, 3],\n",
            "        [4, 5, 6]])\n",
            "---\n",
            "torch.Size([2, 3])\n",
            "tensor([[ 7,  8,  9],\n",
            "        [10, 11, 12]])\n"
          ]
        }
      ]
    },
    {
      "cell_type": "code",
      "source": [
        "# Concatenate along dimension 0\n",
        "cat_dim0 = torch.cat([tensor_a, tensor_b], dim=0)\n",
        "print(cat_dim0.shape)\n",
        "print(cat_dim0)"
      ],
      "metadata": {
        "colab": {
          "base_uri": "https://localhost:8080/"
        },
        "id": "l0DTjoV8_r-3",
        "outputId": "adb755e9-490b-4dd5-bdeb-090ae3817864"
      },
      "execution_count": null,
      "outputs": [
        {
          "output_type": "stream",
          "name": "stdout",
          "text": [
            "torch.Size([4, 3])\n",
            "tensor([[ 1,  2,  3],\n",
            "        [ 4,  5,  6],\n",
            "        [ 7,  8,  9],\n",
            "        [10, 11, 12]])\n"
          ]
        }
      ]
    },
    {
      "cell_type": "code",
      "source": [
        "cat_dim1 = torch.cat([tensor_a, tensor_b], dim=1)\n",
        "print(cat_dim1.shape)\n",
        "print(cat_dim1)"
      ],
      "metadata": {
        "colab": {
          "base_uri": "https://localhost:8080/"
        },
        "id": "Bj6OyeaNAmtc",
        "outputId": "5d0a4f16-3fb3-4804-fd87-6bc890cf7ce1"
      },
      "execution_count": null,
      "outputs": [
        {
          "output_type": "stream",
          "name": "stdout",
          "text": [
            "torch.Size([2, 6])\n",
            "tensor([[ 1,  2,  3,  7,  8,  9],\n",
            "        [ 4,  5,  6, 10, 11, 12]])\n"
          ]
        }
      ]
    },
    {
      "cell_type": "markdown",
      "source": [
        "### Tensor Indexing and Slicing"
      ],
      "metadata": {
        "id": "wGtiMxj0A3FD"
      }
    },
    {
      "cell_type": "code",
      "source": [
        "torch.arange(24)"
      ],
      "metadata": {
        "colab": {
          "base_uri": "https://localhost:8080/"
        },
        "id": "UFvk1k6oBOMQ",
        "outputId": "1053d941-62ab-4fc1-fe42-3937579fd64e"
      },
      "execution_count": null,
      "outputs": [
        {
          "output_type": "execute_result",
          "data": {
            "text/plain": [
              "tensor([ 0,  1,  2,  3,  4,  5,  6,  7,  8,  9, 10, 11, 12, 13, 14, 15, 16, 17,\n",
              "        18, 19, 20, 21, 22, 23])"
            ]
          },
          "metadata": {},
          "execution_count": 48
        }
      ]
    },
    {
      "cell_type": "code",
      "source": [
        "input_tensor = torch.arange(24).reshape(4, 6)\n",
        "print(input_tensor.shape)\n",
        "print(input_tensor)"
      ],
      "metadata": {
        "colab": {
          "base_uri": "https://localhost:8080/"
        },
        "id": "PkKsdV2VBybl",
        "outputId": "725723d4-3dbd-4c77-896d-690c2f4a08f0"
      },
      "execution_count": null,
      "outputs": [
        {
          "output_type": "stream",
          "name": "stdout",
          "text": [
            "torch.Size([4, 6])\n",
            "tensor([[ 0,  1,  2,  3,  4,  5],\n",
            "        [ 6,  7,  8,  9, 10, 11],\n",
            "        [12, 13, 14, 15, 16, 17],\n",
            "        [18, 19, 20, 21, 22, 23]])\n"
          ]
        }
      ]
    },
    {
      "cell_type": "markdown",
      "source": [
        "#### Basic Indexing"
      ],
      "metadata": {
        "id": "EbZtBk1TBPwm"
      }
    },
    {
      "cell_type": "code",
      "source": [
        "first_row_tensor = input_tensor[0]\n",
        "print(first_row_tensor)"
      ],
      "metadata": {
        "colab": {
          "base_uri": "https://localhost:8080/"
        },
        "id": "uUoXKlYOB-ID",
        "outputId": "16ebc164-50d0-471a-ed76-424f96631563"
      },
      "execution_count": null,
      "outputs": [
        {
          "output_type": "stream",
          "name": "stdout",
          "text": [
            "tensor([0, 1, 2, 3, 4, 5])\n"
          ]
        }
      ]
    },
    {
      "cell_type": "code",
      "source": [
        "first_col_tensor = input_tensor[:, 0]\n",
        "print(first_col_tensor)\n",
        "print(\"is contigious: \" + (\"True\" if first_col_tensor.is_contiguous() else \"False\"))"
      ],
      "metadata": {
        "colab": {
          "base_uri": "https://localhost:8080/"
        },
        "id": "AVqHEBt2CLDa",
        "outputId": "b8f9cef3-7a13-45af-a69a-cf1b986ac4d9"
      },
      "execution_count": null,
      "outputs": [
        {
          "output_type": "stream",
          "name": "stdout",
          "text": [
            "tensor([ 0,  6, 12, 18])\n",
            "is contigious: False\n"
          ]
        }
      ]
    },
    {
      "cell_type": "code",
      "source": [
        "specific_element = input_tensor[1,2]\n",
        "print(specific_element)"
      ],
      "metadata": {
        "colab": {
          "base_uri": "https://localhost:8080/"
        },
        "id": "d1kDdrZBCeb4",
        "outputId": "185b6961-a531-497d-ae1e-492e95a29bc7"
      },
      "execution_count": null,
      "outputs": [
        {
          "output_type": "stream",
          "name": "stdout",
          "text": [
            "tensor(8)\n"
          ]
        }
      ]
    },
    {
      "cell_type": "markdown",
      "source": [
        "#### Slicing Operation"
      ],
      "metadata": {
        "id": "neGwGolOC8N6"
      }
    },
    {
      "cell_type": "code",
      "source": [
        "first_two_rows_tensor = input_tensor[:2]\n",
        "print(first_two_rows_tensor)\n",
        "print(\"is contigious: \" + (\"True\" if first_two_rows_tensor.is_contiguous() else \"False\"))"
      ],
      "metadata": {
        "colab": {
          "base_uri": "https://localhost:8080/"
        },
        "id": "YSsVsFUxCphg",
        "outputId": "b3559170-03a0-4fc8-d085-dc3500471332"
      },
      "execution_count": null,
      "outputs": [
        {
          "output_type": "stream",
          "name": "stdout",
          "text": [
            "tensor([[ 0,  1,  2,  3,  4,  5],\n",
            "        [ 6,  7,  8,  9, 10, 11]])\n",
            "is contigious: True\n"
          ]
        }
      ]
    },
    {
      "cell_type": "code",
      "source": [
        "first_two_cols_tensor = input_tensor[:, :2]\n",
        "print(first_two_cols_tensor)\n",
        "print(\"is contigious: \" + (\"True\" if first_two_cols_tensor.is_contiguous() else \"False\"))"
      ],
      "metadata": {
        "colab": {
          "base_uri": "https://localhost:8080/"
        },
        "id": "Ux2zlZKRDGFe",
        "outputId": "11facb9f-3439-4566-a1eb-35cbd4bf698c"
      },
      "execution_count": null,
      "outputs": [
        {
          "output_type": "stream",
          "name": "stdout",
          "text": [
            "tensor([[ 0,  1],\n",
            "        [ 6,  7],\n",
            "        [12, 13],\n",
            "        [18, 19]])\n",
            "is contigious: False\n"
          ]
        }
      ]
    },
    {
      "cell_type": "code",
      "source": [
        "# ✅ Left-inclusive, right-exclusive\n",
        "submatrix_tensor = input_tensor[1:3, 2:4] # rows 1 and 2 (but not 3)\n",
        "print(submatrix_tensor)\n",
        "print(\"is contigious: \" + (\"True\" if submatrix_tensor.is_contiguous() else \"False\"))"
      ],
      "metadata": {
        "colab": {
          "base_uri": "https://localhost:8080/"
        },
        "id": "Wu_LMqokCpUA",
        "outputId": "ec3ef9c6-fe30-45e3-f989-b9f4633a0171"
      },
      "execution_count": null,
      "outputs": [
        {
          "output_type": "stream",
          "name": "stdout",
          "text": [
            "tensor([[ 8,  9],\n",
            "        [14, 15]])\n",
            "is contigious: False\n"
          ]
        }
      ]
    },
    {
      "cell_type": "markdown",
      "source": [
        "#### Boolean indexing\n",
        "* This selects only the elements where the mask is True\n",
        "* The result is a **1D tensor** of just the odd numbers"
      ],
      "metadata": {
        "id": "yHl1iFbBEDQK"
      }
    },
    {
      "cell_type": "code",
      "source": [
        "input_tensor % 2 == 1"
      ],
      "metadata": {
        "colab": {
          "base_uri": "https://localhost:8080/"
        },
        "id": "H_wZ-bLGDtQQ",
        "outputId": "976b6eec-58ef-44ad-a5d9-b5b43e03edca"
      },
      "execution_count": null,
      "outputs": [
        {
          "output_type": "execute_result",
          "data": {
            "text/plain": [
              "tensor([[False,  True, False,  True, False,  True],\n",
              "        [False,  True, False,  True, False,  True],\n",
              "        [False,  True, False,  True, False,  True],\n",
              "        [False,  True, False,  True, False,  True]])"
            ]
          },
          "metadata": {},
          "execution_count": 56
        }
      ]
    },
    {
      "cell_type": "code",
      "source": [
        "mask = input_tensor % 2 == 1\n",
        "input_tensor[mask]"
      ],
      "metadata": {
        "colab": {
          "base_uri": "https://localhost:8080/"
        },
        "id": "8gIhSkwhETSi",
        "outputId": "da55c862-45c7-4bbb-c934-deeffc5dab4f"
      },
      "execution_count": null,
      "outputs": [
        {
          "output_type": "execute_result",
          "data": {
            "text/plain": [
              "tensor([ 1,  3,  5,  7,  9, 11, 13, 15, 17, 19, 21, 23])"
            ]
          },
          "metadata": {},
          "execution_count": 57
        }
      ]
    },
    {
      "cell_type": "markdown",
      "source": [
        "#### Advanced Indexing"
      ],
      "metadata": {
        "id": "9lHCPlYDfpRz"
      }
    },
    {
      "cell_type": "code",
      "source": [
        "input_tensor"
      ],
      "metadata": {
        "colab": {
          "base_uri": "https://localhost:8080/"
        },
        "id": "GRxao6fmftPc",
        "outputId": "e9026a4e-e6ac-4fd6-b24d-26a9bb2ee67e"
      },
      "execution_count": null,
      "outputs": [
        {
          "output_type": "execute_result",
          "data": {
            "text/plain": [
              "tensor([[ 0,  1,  2,  3,  4,  5],\n",
              "        [ 6,  7,  8,  9, 10, 11],\n",
              "        [12, 13, 14, 15, 16, 17],\n",
              "        [18, 19, 20, 21, 22, 23]])"
            ]
          },
          "metadata": {},
          "execution_count": 58
        }
      ]
    },
    {
      "cell_type": "code",
      "source": [
        "indices = torch.tensor([1, 2])\n",
        "selected_rows = input_tensor[indices]\n",
        "print(selected_rows.shape)\n",
        "print(selected_rows)"
      ],
      "metadata": {
        "colab": {
          "base_uri": "https://localhost:8080/"
        },
        "id": "JArmZ3Ocf07n",
        "outputId": "5e66317d-7082-458f-f17d-1d5f9888c1ab"
      },
      "execution_count": null,
      "outputs": [
        {
          "output_type": "stream",
          "name": "stdout",
          "text": [
            "torch.Size([2, 6])\n",
            "tensor([[ 6,  7,  8,  9, 10, 11],\n",
            "        [12, 13, 14, 15, 16, 17]])\n"
          ]
        }
      ]
    },
    {
      "cell_type": "markdown",
      "source": [
        "### Devices and Data Types"
      ],
      "metadata": {
        "id": "0jw3qpIHgMdX"
      }
    },
    {
      "cell_type": "markdown",
      "source": [
        "#### Data Types"
      ],
      "metadata": {
        "id": "SEvNEUpfgXXy"
      }
    },
    {
      "cell_type": "code",
      "source": [
        "int_tensor = torch.tensor([1, 2, 3], dtype=torch.int32)\n",
        "print(int_tensor)"
      ],
      "metadata": {
        "colab": {
          "base_uri": "https://localhost:8080/"
        },
        "id": "5ZLyRJbOgUya",
        "outputId": "63457fef-02df-4a4d-b9d3-eb32a567cd51"
      },
      "execution_count": null,
      "outputs": [
        {
          "output_type": "stream",
          "name": "stdout",
          "text": [
            "tensor([1, 2, 3], dtype=torch.int32)\n"
          ]
        }
      ]
    },
    {
      "cell_type": "code",
      "source": [
        "float_tensor = torch.tensor([1.0, 2.0, 3.0], dtype=torch.float32)\n",
        "print(float_tensor)\n",
        "print(float_tensor.dtype)"
      ],
      "metadata": {
        "colab": {
          "base_uri": "https://localhost:8080/"
        },
        "id": "E3JnwoXSg0r3",
        "outputId": "5d785590-56be-4fcc-9ba9-c5159e5b4030"
      },
      "execution_count": null,
      "outputs": [
        {
          "output_type": "stream",
          "name": "stdout",
          "text": [
            "tensor([1., 2., 3.])\n",
            "torch.float32\n"
          ]
        }
      ]
    },
    {
      "cell_type": "code",
      "source": [
        "double_tensor = torch.tensor([1.0, 2.0, 3.0], dtype=torch.float64)\n",
        "print(double_tensor)\n",
        "print(double_tensor.dtype)"
      ],
      "metadata": {
        "colab": {
          "base_uri": "https://localhost:8080/"
        },
        "id": "q7KHPYwshIVJ",
        "outputId": "84abd790-7466-4848-fce1-7659226b704b"
      },
      "execution_count": null,
      "outputs": [
        {
          "output_type": "stream",
          "name": "stdout",
          "text": [
            "tensor([1., 2., 3.], dtype=torch.float64)\n",
            "torch.float64\n"
          ]
        }
      ]
    },
    {
      "cell_type": "markdown",
      "source": [
        "#### Type Conversion"
      ],
      "metadata": {
        "id": "XvUhfwjshYrn"
      }
    },
    {
      "cell_type": "code",
      "source": [
        "converted_tensor = int_tensor.float()\n",
        "print(converted_tensor)\n",
        "print(converted_tensor.dtype)"
      ],
      "metadata": {
        "colab": {
          "base_uri": "https://localhost:8080/"
        },
        "id": "xBahZNaMha-w",
        "outputId": "ed813d0f-4161-4554-ae12-83dd04220ff2"
      },
      "execution_count": null,
      "outputs": [
        {
          "output_type": "stream",
          "name": "stdout",
          "text": [
            "tensor([1., 2., 3.])\n",
            "torch.float32\n"
          ]
        }
      ]
    },
    {
      "cell_type": "markdown",
      "source": [
        "#### Device Management"
      ],
      "metadata": {
        "id": "upnstYQwhoBL"
      }
    },
    {
      "cell_type": "code",
      "source": [
        "cpu_tensor = torch.randn(3, 3)\n",
        "print(f\"CPU tensor devide: {cpu_tensor.device}\")"
      ],
      "metadata": {
        "colab": {
          "base_uri": "https://localhost:8080/"
        },
        "id": "2t7wCe1ihqi6",
        "outputId": "0168835e-be26-49db-b359-ce4d3059e4fe"
      },
      "execution_count": null,
      "outputs": [
        {
          "output_type": "stream",
          "name": "stdout",
          "text": [
            "CPU tensor devide: cpu\n"
          ]
        }
      ]
    },
    {
      "cell_type": "markdown",
      "source": [
        "#### Check if CUDA is available"
      ],
      "metadata": {
        "id": "pRxW97HBh70H"
      }
    },
    {
      "cell_type": "code",
      "source": [
        "if torch.cuda.is_available():\n",
        "  gpu_tensor = cpu_tensor.cuda # move to GPU\n",
        "  print(f\"GPU tensor device: {gpu_tensor.device}\")\n",
        "\n",
        "  # create tensor on GPU\n",
        "  gpu_direct_tensor = torch.randn(2, 3, device='cuda')\n",
        "  print(f\"Created directly on GPU: {gpu_direct_tensor.device}\")\n",
        "\n",
        "  # move back to CPU\n",
        "  back_to_cpu_tensor = gpu_tensor.cpu()\n",
        "  print(f\"Moved back to CPU: {back_to_cpu_tensor.device}\")\n",
        "else:\n",
        "  print(\"CUDA not available\")"
      ],
      "metadata": {
        "colab": {
          "base_uri": "https://localhost:8080/"
        },
        "id": "Mo-gj_-Zh5vV",
        "outputId": "f39c90ab-bd98-43d0-cd61-a27db5a5ca7d"
      },
      "execution_count": null,
      "outputs": [
        {
          "output_type": "stream",
          "name": "stdout",
          "text": [
            "CUDA not available\n"
          ]
        }
      ]
    }
  ]
}