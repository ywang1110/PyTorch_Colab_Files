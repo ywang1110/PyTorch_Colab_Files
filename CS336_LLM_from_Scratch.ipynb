{
  "nbformat": 4,
  "nbformat_minor": 0,
  "metadata": {
    "colab": {
      "provenance": [],
      "toc_visible": true,
      "authorship_tag": "ABX9TyMG9l/NQ0r9+svQSWh9x9hA",
      "include_colab_link": true
    },
    "kernelspec": {
      "name": "python3",
      "display_name": "Python 3"
    },
    "language_info": {
      "name": "python"
    }
  },
  "cells": [
    {
      "cell_type": "markdown",
      "metadata": {
        "id": "view-in-github",
        "colab_type": "text"
      },
      "source": [
        "<a href=\"https://colab.research.google.com/github/ywang1110/PyTorch_Colab_Files/blob/main/CS336_LLM_from_Scratch.ipynb\" target=\"_parent\"><img src=\"https://colab.research.google.com/assets/colab-badge.svg\" alt=\"Open In Colab\"/></a>"
      ]
    },
    {
      "cell_type": "code",
      "execution_count": null,
      "metadata": {
        "id": "MWfSPYf8DGnh"
      },
      "outputs": [],
      "source": [
        "import torch"
      ]
    },
    {
      "cell_type": "markdown",
      "source": [
        "# PyTorch"
      ],
      "metadata": {
        "id": "pNJKKKveFp7k"
      }
    },
    {
      "cell_type": "markdown",
      "source": [
        "## torch.matmul(input, other, *, out=None) → Tensor\n",
        "* Matrix product of two tensors.\n"
      ],
      "metadata": {
        "id": "PiBaZrdtIbDt"
      }
    },
    {
      "cell_type": "markdown",
      "source": [
        "### Special rules for 1D inputs:\n",
        "When mixing 1D with high-dimensional tensors:\n",
        "\n",
        "* If **1st argument** is 1D (shape: (n,)):\n",
        "\n",
        "  → Temporarily **reshape to (1, n)** by prepending a 1.\n",
        "\n",
        "* If **2nd argument** is 1D (shape: (n,)):\n",
        "  \n",
        "  → Temporarily reshape to **(n, 1)** by appending a 1.\n",
        "\n",
        "After the batched matrix multiply, the extra dimension is removed."
      ],
      "metadata": {
        "id": "Le9IugYzNWaV"
      }
    },
    {
      "cell_type": "code",
      "source": [
        "x = torch.FloatTensor([1,2])\n",
        "y = torch.randn(2, 3)\n",
        "z = x @ y\n",
        "print(z.shape)"
      ],
      "metadata": {
        "colab": {
          "base_uri": "https://localhost:8080/"
        },
        "id": "F3VIDiEJIoeG",
        "outputId": "68fdc7fc-6d38-477b-b661-c665053dfc6b"
      },
      "execution_count": null,
      "outputs": [
        {
          "output_type": "stream",
          "name": "stdout",
          "text": [
            "torch.Size([3])\n"
          ]
        }
      ]
    },
    {
      "cell_type": "code",
      "source": [
        "x = torch.randn(2, 3)\n",
        "y = torch.FloatTensor([1, 2, 3])\n",
        "print(x.shape)\n",
        "print(y.shape)"
      ],
      "metadata": {
        "colab": {
          "base_uri": "https://localhost:8080/"
        },
        "id": "xfuftk_GKPwk",
        "outputId": "065bbd4d-3b0b-4fff-bb80-50b8a9e75cd4"
      },
      "execution_count": null,
      "outputs": [
        {
          "output_type": "stream",
          "name": "stdout",
          "text": [
            "torch.Size([2, 3])\n",
            "torch.Size([3])\n"
          ]
        }
      ]
    },
    {
      "cell_type": "code",
      "source": [
        "z = x @ y\n",
        "print(z.shape)\n",
        "print(z)"
      ],
      "metadata": {
        "colab": {
          "base_uri": "https://localhost:8080/"
        },
        "id": "Q4qK_EFYKrMw",
        "outputId": "f3f41140-eb6f-4f03-ea98-6c6f2b096a6a"
      },
      "execution_count": null,
      "outputs": [
        {
          "output_type": "stream",
          "name": "stdout",
          "text": [
            "torch.Size([2])\n",
            "tensor([ 6.8562, -2.2629])\n"
          ]
        }
      ]
    },
    {
      "cell_type": "markdown",
      "source": [
        "### 🧠 Key Idea: Batched Matrix Multiply\n",
        "\n",
        "* If at least one input is N-dimensional with **N > 2**, PyTorch performs batched matrix multiplication:\n",
        "* The **last two dimensions** are **treated as the matrix dimensions** (n × m or m × p).\n",
        "* All preceding dimensions are batch dimensions (used for broadcasting)."
      ],
      "metadata": {
        "id": "YtdNfzlMNCl8"
      }
    },
    {
      "cell_type": "markdown",
      "source": [
        "#### ❗ Important Notes:\n",
        "* The **last two dimensions** must align for matmul ((n, m) @ (m, p)).\n",
        "* The **batch dimensions** must be **broadcastable**, using normal broadcasting rules:\n",
        "  * They must be **equal** or **one of them must be 1**.\n",
        "* This allows batched operations over many matrices without looping."
      ],
      "metadata": {
        "id": "_IIoBX7NOGC8"
      }
    },
    {
      "cell_type": "code",
      "source": [
        "a = torch.randn(3, 1, 2, 4)  # shape: (3, 1, 2, 4)\n",
        "b = torch.randn(5, 4, 6)     # shape: (5, 4, 6)\n",
        "\n",
        "# Performs batched matrix multiply\n",
        "out = torch.matmul(a, b)     # shape: (3, 5, 2, 6)\n",
        "print(out.shape)"
      ],
      "metadata": {
        "colab": {
          "base_uri": "https://localhost:8080/"
        },
        "id": "Im4PZCYKNGBc",
        "outputId": "dafc37cd-f13b-4883-8bde-bbc966173c9e"
      },
      "execution_count": null,
      "outputs": [
        {
          "output_type": "stream",
          "name": "stdout",
          "text": [
            "torch.Size([3, 5, 2, 6])\n"
          ]
        }
      ]
    },
    {
      "cell_type": "code",
      "source": [],
      "metadata": {
        "id": "MN2M9jxkNOGz"
      },
      "execution_count": null,
      "outputs": []
    }
  ]
}