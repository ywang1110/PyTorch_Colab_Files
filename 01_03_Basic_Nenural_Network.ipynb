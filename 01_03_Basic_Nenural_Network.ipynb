{
  "nbformat": 4,
  "nbformat_minor": 0,
  "metadata": {
    "colab": {
      "provenance": [],
      "toc_visible": true,
      "authorship_tag": "ABX9TyO+rRcVQqyJHUyaj7TssrAO",
      "include_colab_link": true
    },
    "kernelspec": {
      "name": "python3",
      "display_name": "Python 3"
    },
    "language_info": {
      "name": "python"
    }
  },
  "cells": [
    {
      "cell_type": "markdown",
      "metadata": {
        "id": "view-in-github",
        "colab_type": "text"
      },
      "source": [
        "<a href=\"https://colab.research.google.com/github/ywang1110/PyTorch_Colab_Files/blob/main/01_03_Basic_Nenural_Network.ipynb\" target=\"_parent\"><img src=\"https://colab.research.google.com/assets/colab-badge.svg\" alt=\"Open In Colab\"/></a>"
      ]
    },
    {
      "cell_type": "code",
      "execution_count": 1,
      "metadata": {
        "id": "9MoVjfi0Gehw"
      },
      "outputs": [],
      "source": [
        "import torch # Core PyTorch library: tensors, autograd, etc.\n",
        "import torch.nn as nn # Build neural network layers (like nn.Linear, nn.ReLU)\n",
        "import torch.optim as optim # Optimizers like SGD, Adam, etc.\n",
        "import torch.nn.functional as F # Functional layer APIs (like F.relu, F.cross_entropy, etc.)"
      ]
    },
    {
      "cell_type": "code",
      "source": [
        "import numpy as np\n",
        "import matplotlib.pyplot as plt"
      ],
      "metadata": {
        "id": "YiLtcjFFHiWT"
      },
      "execution_count": 2,
      "outputs": []
    },
    {
      "cell_type": "code",
      "source": [
        "from sklearn.datasets import make_classification, make_regression # Generate fake classification/regression data for testing models\n",
        "from sklearn.model_selection import train_test_split # Split data into training and testing sets\n",
        "from sklearn.preprocessing import StandardScaler # Normalize features (mean=0, std=1) for better training"
      ],
      "metadata": {
        "id": "h_tDiHt-MImc"
      },
      "execution_count": 3,
      "outputs": []
    },
    {
      "cell_type": "markdown",
      "source": [
        "# Simple Linear Model"
      ],
      "metadata": {
        "id": "DlZ1-VP4Mwgs"
      }
    },
    {
      "cell_type": "code",
      "source": [
        "class SimpleLiearModel(nn.Module):\n",
        "  def __init__(self, input_size, output_size):\n",
        "    super().__init__()\n",
        "    self.model = nn.Sequential(\n",
        "        nn.Linear(input_size, output_size)\n",
        "    )\n",
        "\n",
        "  def forward(self, input_x):\n",
        "    return self.model(input_x)"
      ],
      "metadata": {
        "id": "bvFAD0gNM6Mz"
      },
      "execution_count": 4,
      "outputs": []
    },
    {
      "cell_type": "markdown",
      "source": [
        "## ✅ What does `super().__init__()` do?\n",
        "\n",
        "> It calls the **constructor of the parent class** — so your class can **inherit and initialize** everything correctly from its parent.\n",
        "\n",
        "---\n",
        "\n",
        "**🧠 In PyTorch (very important!):**\n",
        "\n",
        "When you define a model:\n",
        "\n",
        "```python\n",
        "import torch.nn as nn\n",
        "\n",
        "class MyModel(nn.Module):\n",
        "    def __init__(self):\n",
        "        super().__init__()  # ✅ Required!\n",
        "        self.linear = nn.Linear(10, 1)\n",
        "```\n",
        "\n",
        "This line:\n",
        "\n",
        "```python\n",
        "super().__init__()\n",
        "```\n",
        "\n",
        "calls `nn.Module`'s `__init__()` — the base setup for every PyTorch model.\n",
        "\n",
        "---\n",
        "\n",
        "**✅ Why is it needed?**\n",
        "\n",
        "Without this line, PyTorch:\n",
        "\n",
        "* ❌ **won’t track layers** like `nn.Linear`\n",
        "* ❌ **autograd won’t work**\n",
        "* ❌ `.to(device)`, `.cuda()`, `.eval()`, `.train()` won’t work\n",
        "* ❌ You may get errors like:\n",
        "\n",
        "```\n",
        "AttributeError: cannot assign 'Linear' as parameter\n",
        "```\n",
        "\n",
        "---\n",
        "\n",
        "**✅ Summary Table**\n",
        "\n",
        "| Code                 | Meaning                                     | Why it's needed                               |\n",
        "| -------------------- | ------------------------------------------- | --------------------------------------------- |\n",
        "| `super().__init__()` | Call parent class constructor (`nn.Module`) | Enables layer registration and model features |\n",
        "\n",
        "---\n",
        "\n",
        "**❗ Without it:**\n",
        "\n",
        "```python\n",
        "class MyModel(nn.Module):\n",
        "    def __init__(self):\n",
        "        # no super().__init__()\n",
        "        self.linear = nn.Linear(10, 1)  # ❌ will raise an error\n",
        "```\n",
        "\n",
        "You’ll get a runtime error. PyTorch doesn’t know this layer belongs to the model."
      ],
      "metadata": {
        "id": "ZK9oG1bwQbqz"
      }
    },
    {
      "cell_type": "markdown",
      "source": [
        "## nn.Linear()\n",
        "**Examples:**\n",
        "\n",
        "```python\n",
        "m = nn.Linear(20, 30)\n",
        "input = torch.randn(128, 20) # 128: records; 20: feature numbers\n",
        "output = m(input)\n",
        "print(output.size())\n",
        "torch.Size([128, 30])\n",
        "```\n",
        "\n",
        "Perfect! Let’s explain what’s happening here step by step — especially for learners:\n",
        "\n",
        "### ✅ Code:\n",
        "\n",
        "```python\n",
        "m = nn.Linear(20, 30)\n",
        "```\n",
        "\n",
        "You are creating a **fully connected (dense) layer**:\n",
        "\n",
        "* Input size = 20 features\n",
        "* Output size = 30 features\n",
        "* PyTorch will automatically create:\n",
        "\n",
        "  * a **weight matrix** of shape `(30, 20)`\n",
        "  * a **bias vector** of shape `(30,)`\n",
        "\n",
        "---\n",
        "\n",
        "```python\n",
        "input = torch.randn(128, 20)\n",
        "```\n",
        "\n",
        "You are generating a **batch of 128 input records**, each with **20 features**.\n",
        "\n",
        "Shape: `(128, 20)`\n",
        "\n",
        "---\n",
        "\n",
        "```python\n",
        "output = m(input)\n",
        "```\n",
        "\n",
        "You pass the input through the linear layer.\n",
        "\n",
        "Behind the scenes:\n",
        "\n",
        "$$\n",
        "\\text{output} = \\text{input} \\cdot W^T + b\n",
        "$$\n",
        "\n",
        "Where:\n",
        "\n",
        "* `W^T` is the **transposed** weight matrix (shape: `(20, 30)`)\n",
        "* Output shape will be `(128, 30)`\n",
        "\n",
        "Each of the 128 records is transformed into a 30-dimensional vector.\n",
        "\n",
        "---\n",
        "\n",
        "```python\n",
        "print(output.size())\n",
        "# torch.Size([128, 30])\n",
        "```\n",
        "\n",
        "✅ So the output shape is:\n",
        "\n",
        "* **128 rows** → one for each input record\n",
        "* **30 columns** → one for each output unit\n",
        "\n",
        "---\n",
        "\n",
        "## ✅ Summary\n",
        "\n",
        "| Tensor              | Shape       | Meaning                       |\n",
        "| ------------------- | ----------- | ----------------------------- |\n",
        "| `input`             | `[128, 20]` | 128 samples, 20 features each |\n",
        "| `nn.Linear(20, 30)` | —           | Linear layer: 20 → 30 units   |\n",
        "| `output`            | `[128, 30]` | 128 samples, 30 outputs each  |"
      ],
      "metadata": {
        "id": "nbc8ktdjQpez"
      }
    },
    {
      "cell_type": "markdown",
      "source": [
        "## Visual matrix-style diagram   \n",
        "\n",
        "```rust\n",
        "          Input Matrix [128 × 20]\n",
        "        ┌─────────────────────────────┐\n",
        "        │ x₁₁ x₁₂ ... x₁₂₀            │   ← Sample 1\n",
        "        │ x₂₁ x₂₂ ... x₂₀             │   ← Sample 2\n",
        "        │ ...                         │\n",
        "        │ x₁₂₈₁ ...        x₁₂₈₂₀     │   ← Sample 128\n",
        "        └─────────────────────────────┘\n",
        "                       ×\n",
        "       Weight Matrix [30 × 20] (transposed inside)\n",
        "        ┌─────────────────────────────┐\n",
        "        │ w₁₁ w₁₂ ... w₁₂₀            │   → Output unit 1\n",
        "        │ w₂₁ w₂₂ ... w₂₀             │   → Output unit 2\n",
        "        │ ...                         │\n",
        "        │ w₃₀₁ ...        w₃₀₂₀       │   → Output unit 30\n",
        "        └─────────────────────────────┘\n",
        "                       +\n",
        "        Bias Vector [30]\n",
        "        ┌─────────────────────────────┐\n",
        "        │ b₁ b₂ ... b₃₀               │\n",
        "        └─────────────────────────────┘\n",
        "                       =\n",
        "       Output Matrix [128 × 30]\n",
        "        ┌─────────────────────────────┐\n",
        "        │ y₁₁ y₁₂ ... y₁₃₀            │   ← Output for sample 1\n",
        "        │ y₂₁ y₂₂ ... y₂₃₀            │   ← Output for sample 2\n",
        "        │ ...                         │\n",
        "        │ y₁₂₈₁ ...        y₁₂₈₃₀     │   ← Output for sample 128\n",
        "        └─────────────────────────────┘\n",
        "\n",
        "```"
      ],
      "metadata": {
        "id": "vf4Ksll2WMR-"
      }
    },
    {
      "cell_type": "markdown",
      "source": [
        "# Simple Multi-Layer Perceptron (MLP)\n"
      ],
      "metadata": {
        "id": "xHu1MFW0W2IF"
      }
    },
    {
      "cell_type": "markdown",
      "source": [
        "## 🧠 What is a Multi-Layer Perceptron?\n",
        "\n",
        "An MLP is a type of **feedforward neural network** made of:\n",
        "1. Input layer\n",
        "2. One or more **hidden layers** (with non-linear activation like ReLU)\n",
        "3. Output layer\n",
        "\n",
        "Each layer is fully connected (nn.Linear), and we often apply nn.ReLU() between layers."
      ],
      "metadata": {
        "id": "23eXCJxBXSLc"
      }
    },
    {
      "cell_type": "code",
      "source": [
        "class SimpleMLP(nn.Module):\n",
        "  def __init__(self, input_size, hidden_size, output_size):\n",
        "    super().__init__()\n",
        "    self.model = nn.Sequential(\n",
        "        nn.Linear(input_size, hidden_size),\n",
        "        nn.ReLU(),\n",
        "        nn.Linear(hidden_size, output_size)\n",
        "    )\n",
        "\n",
        "  def forward(self, input_x):\n",
        "    return self.model(input_x)"
      ],
      "metadata": {
        "id": "Ul70y8ldWwnc"
      },
      "execution_count": 5,
      "outputs": []
    },
    {
      "cell_type": "markdown",
      "source": [
        "# Linear Regression Demo"
      ],
      "metadata": {
        "id": "UQTIk-X1bElE"
      }
    },
    {
      "cell_type": "code",
      "source": [
        "torch.manual_seed(42)\n",
        "n_samples = 100\n",
        "data_X, data_y = make_regression(\n",
        "    n_samples = n_samples,\n",
        "    n_features = 1,\n",
        "    # n_targets = 1, // default = 1 -> by default the output is a scalar.\n",
        "    noise = 10,\n",
        "    random_state = 42\n",
        ")"
      ],
      "metadata": {
        "id": "KlPa2WBMbIMQ"
      },
      "execution_count": 6,
      "outputs": []
    },
    {
      "cell_type": "markdown",
      "source": [
        "## Convert to PyTorch tensors"
      ],
      "metadata": {
        "id": "_-8HqXXydCgw"
      }
    },
    {
      "cell_type": "code",
      "source": [
        "tensor_X = torch.from_numpy(data_X).float()\n",
        "tensor_y = torch.from_numpy(data_y).float()"
      ],
      "metadata": {
        "id": "Lx_yTjWodHL9"
      },
      "execution_count": 7,
      "outputs": []
    },
    {
      "cell_type": "code",
      "source": [
        "print(tensor_X.shape)\n",
        "print(tensor_y.shape)"
      ],
      "metadata": {
        "colab": {
          "base_uri": "https://localhost:8080/"
        },
        "id": "F276t0u_knuy",
        "outputId": "22f831c3-dcc9-41d7-ded8-5de233b8165e"
      },
      "execution_count": 8,
      "outputs": [
        {
          "output_type": "stream",
          "name": "stdout",
          "text": [
            "torch.Size([100, 1])\n",
            "torch.Size([100])\n"
          ]
        }
      ]
    },
    {
      "cell_type": "markdown",
      "source": [
        "### Fixing Shape Mismatch Between Model Output and Target in PyTorch Regression\n",
        "\n",
        "* `tensor_X.shape = [100, 1]` → OK for `nn.Linear(1, 1)`\n",
        "* `tensor_y.shape = [100]` → ❌ mismatch with model output `[100, 1]`\n",
        "* **Fix:**\n",
        "\n",
        "  ```python\n",
        "  tensor_y = tensor_y.reshape(-1, 1)\n",
        "  ```\n",
        "* Now both prediction and target are `[100, 1]` → ✅ ready for `nn.MSELoss()` and training.\n"
      ],
      "metadata": {
        "id": "OR1nv-lElITO"
      }
    },
    {
      "cell_type": "code",
      "source": [
        "tensor_y = tensor_y.reshape(-1, 1)\n",
        "print(tensor_y.shape)"
      ],
      "metadata": {
        "colab": {
          "base_uri": "https://localhost:8080/"
        },
        "id": "FBQ5f95VlADp",
        "outputId": "e3e61e79-91b6-4086-d2e3-37d6c92ebb3f"
      },
      "execution_count": 9,
      "outputs": [
        {
          "output_type": "stream",
          "name": "stdout",
          "text": [
            "torch.Size([100, 1])\n"
          ]
        }
      ]
    },
    {
      "cell_type": "code",
      "source": [
        "print(tensor_X.dtype)\n",
        "print(tensor_y.dtype)"
      ],
      "metadata": {
        "colab": {
          "base_uri": "https://localhost:8080/"
        },
        "id": "kI5tj2JSdXCL",
        "outputId": "72cf4faf-300a-4a21-b398-2745221297bc"
      },
      "execution_count": 10,
      "outputs": [
        {
          "output_type": "stream",
          "name": "stdout",
          "text": [
            "torch.float32\n",
            "torch.float32\n"
          ]
        }
      ]
    },
    {
      "cell_type": "markdown",
      "source": [
        "## Create Model"
      ],
      "metadata": {
        "id": "YPBkyHhFd5H8"
      }
    },
    {
      "cell_type": "code",
      "source": [
        "model = SimpleLiearModel(input_size = 1, output_size = 1)\n",
        "print(model)\n",
        "print(model.parameters())"
      ],
      "metadata": {
        "colab": {
          "base_uri": "https://localhost:8080/"
        },
        "id": "gVzbnIdPd1Lu",
        "outputId": "0b6d2460-c8cc-4902-fea1-c50e7dfb8e86"
      },
      "execution_count": 11,
      "outputs": [
        {
          "output_type": "stream",
          "name": "stdout",
          "text": [
            "SimpleLiearModel(\n",
            "  (model): Sequential(\n",
            "    (0): Linear(in_features=1, out_features=1, bias=True)\n",
            "  )\n",
            ")\n",
            "<generator object Module.parameters at 0x7fb9458e44a0>\n"
          ]
        }
      ]
    },
    {
      "cell_type": "markdown",
      "source": [
        "## Define Loss Function and Optimizer"
      ],
      "metadata": {
        "id": "hVCK6RWvgV-C"
      }
    },
    {
      "cell_type": "code",
      "source": [
        "loss_function = nn.MSELoss()\n",
        "optimizer = optim.SGD(model.parameters(), lr=0.01)"
      ],
      "metadata": {
        "id": "81tcEWPagF_T"
      },
      "execution_count": 12,
      "outputs": []
    },
    {
      "cell_type": "markdown",
      "source": [
        "### ✅ `loss = nn.MSELoss()`\n",
        "\n",
        "This defines your **loss function**, also called the **objective** or **criterion**.\n",
        "\n",
        "**📘 `MSELoss` stands for:**\n",
        "\n",
        "**Mean Squared Error Loss**\n",
        "\n",
        "$$\n",
        "\\text{MSE} = \\frac{1}{N} \\sum_{i=1}^{N} (\\hat{y}_i - y_i)^2\n",
        "$$\n",
        "\n",
        "* Measures the average squared difference **between prediction and target**\n",
        "* Commonly used for **regression tasks**"
      ],
      "metadata": {
        "id": "MppfOfivhXUU"
      }
    },
    {
      "cell_type": "markdown",
      "source": [
        "### ✅ `optimizer = optim.SGD(model.parameters(), lr=0.01)`\n",
        "\n",
        "This defines how the model **updates its parameters** during training.\n",
        "\n",
        "### 📘 `SGD` stands for:\n",
        "\n",
        "**Stochastic Gradient Descent**\n",
        "\n",
        "* `model.parameters()` tells the optimizer what to update\n",
        "* `lr=0.01` is the **learning rate** — how big each step is\n",
        "\n",
        "### 🔄 During training:\n",
        "\n",
        "```python\n",
        "loss.backward()        # Compute gradients (∂Loss/∂params)\n",
        "optimizer.step()       # Update parameters using gradients\n",
        "optimizer.zero_grad()  # Clear old gradients\n",
        "```\n",
        "\n",
        "---\n",
        "\n",
        "## ✅ Summary\n",
        "\n",
        "| Line                                     | Meaning                                           |\n",
        "| ---------------------------------------- | ------------------------------------------------- |\n",
        "| `nn.MSELoss()`                           | Loss function: average squared error (regression) |\n",
        "| `optim.SGD(model.parameters(), lr=0.01)` | Optimizer: updates model using gradient descent   |\n",
        "\n",
        "You can replace `SGD` with `Adam`, `RMSprop`, etc., depending on the task.\n",
        "\n",
        "Let me know if you’d like a comparison between optimizers or a diagram of the update process!\n"
      ],
      "metadata": {
        "id": "UqkEdgFqhQrm"
      }
    },
    {
      "cell_type": "markdown",
      "source": [
        "## Train Model"
      ],
      "metadata": {
        "id": "xGVzZaKaiV0W"
      }
    },
    {
      "cell_type": "code",
      "source": [
        "n_epochs = 1000\n",
        "loss_history = []"
      ],
      "metadata": {
        "id": "7nJiA1pBiUz7"
      },
      "execution_count": 13,
      "outputs": []
    },
    {
      "cell_type": "code",
      "source": [
        "for epoch in range(n_epochs):\n",
        "  # forward pass\n",
        "  model_predictions = model(tensor_X)\n",
        "  current_loss = loss_function(model_predictions, tensor_y)\n",
        "\n",
        "  # backward pass\n",
        "  optimizer.zero_grad()\n",
        "  current_loss.backward()\n",
        "  optimizer.step()\n",
        "\n",
        "  loss_history.append(current_loss.item())\n",
        "\n",
        "  if (epoch + 1) % 200 == 0:\n",
        "    print(f\"Epoch {epoch + 1}/{n_epochs}, Loss: {current_loss.item():.4f}\")"
      ],
      "metadata": {
        "colab": {
          "base_uri": "https://localhost:8080/"
        },
        "id": "G3hQrHvBipTP",
        "outputId": "8add4b19-1e28-4ff1-a7a6-8edb7dd44e8b"
      },
      "execution_count": 14,
      "outputs": [
        {
          "output_type": "stream",
          "name": "stdout",
          "text": [
            "Epoch 200/1000, Loss: 80.5052\n",
            "Epoch 400/1000, Loss: 78.0587\n",
            "Epoch 600/1000, Loss: 78.0543\n",
            "Epoch 800/1000, Loss: 78.0542\n",
            "Epoch 1000/1000, Loss: 78.0542\n"
          ]
        }
      ]
    },
    {
      "cell_type": "markdown",
      "source": [
        "# Binary Classfication Demo"
      ],
      "metadata": {
        "id": "4zOCj2_QmpTJ"
      }
    },
    {
      "cell_type": "markdown",
      "source": [
        "## Create data"
      ],
      "metadata": {
        "id": "9pnogD_amxcT"
      }
    },
    {
      "cell_type": "code",
      "source": [
        "data_X, data_y = make_classification(\n",
        "    n_samples = 1000,\n",
        "    n_features = 2,\n",
        "    n_redundant = 0, # No redundant (correlated) features\n",
        "    n_informative = 2, # The number of classes (or labels) of the classification problem.\n",
        "    n_clusters_per_class = 1, # Each class has one cluster (simplifies the distribution)\n",
        "    random_state = 42\n",
        ")"
      ],
      "metadata": {
        "id": "Q9rU8wWfmvZk"
      },
      "execution_count": 15,
      "outputs": []
    },
    {
      "cell_type": "markdown",
      "source": [
        "## Data standardization"
      ],
      "metadata": {
        "id": "z2pD2LIYn8eu"
      }
    },
    {
      "cell_type": "code",
      "source": [
        "scaler = StandardScaler()\n",
        "data_X = scaler.fit_transform(data_X)"
      ],
      "metadata": {
        "id": "vPmuxOehn6K5"
      },
      "execution_count": 16,
      "outputs": []
    },
    {
      "cell_type": "markdown",
      "source": [
        "### 📝 Note: `StandardScaler`\n",
        "\n",
        "* Standardizes features using z-score:\n",
        "\n",
        "  $$\n",
        "  x' = \\frac{x - \\mu}{\\sigma}\n",
        "  $$\n",
        "* Result: each feature has **mean = 0**, **std = 1**\n",
        "* Improves training speed and stability\n",
        "* Use `fit_transform` on training data, `transform` on test data to avoid leakage"
      ],
      "metadata": {
        "id": "kikOSJxdoYpc"
      }
    },
    {
      "cell_type": "markdown",
      "source": [
        "### 📝 Why Standardization Is Important\n",
        "\n",
        "If you don’t standardize:\n",
        "\n",
        "* 🚫 Some features (like income) may dominate others (like age)\n",
        "* 🐢 The model may learn very slowly or get confused\n",
        "* 🤯 It can make training unstable or inaccurate\n",
        "\n",
        "✅ Standardization makes all features more balanced, helping the model learn faster and better."
      ],
      "metadata": {
        "id": "1z9jFoP0o_BV"
      }
    },
    {
      "cell_type": "markdown",
      "source": [
        "### 📝 Note: Does Standardization Affect Results?\n",
        "\n",
        "* ❗ No — it **doesn’t change the true relationships** in the data\n",
        "* ✅ It helps models (especially neural nets, logistic regression, SVMs) **learn faster and more stably**\n",
        "* ⚠️ Always use the **same scaler** for both training and test data (`fit` on train, `transform` on test)\n",
        "\n",
        "> Standardization improves training but doesn’t harm model performance or accuracy."
      ],
      "metadata": {
        "id": "lk8ORvIEqTwK"
      }
    },
    {
      "cell_type": "markdown",
      "source": [
        "## Split train-test sets"
      ],
      "metadata": {
        "id": "YiwzaMGuqW5m"
      }
    },
    {
      "cell_type": "code",
      "source": [
        "X_train, X_test, y_train, y_test = train_test_split(\n",
        "    data_X,\n",
        "    data_y,\n",
        "    test_size=0.2,\n",
        "    random_state=42)"
      ],
      "metadata": {
        "id": "LaPKZvQtofzC"
      },
      "execution_count": 17,
      "outputs": []
    },
    {
      "cell_type": "markdown",
      "source": [
        "## Convert to PyTorch Tensors"
      ],
      "metadata": {
        "id": "lyIvWj55qxy9"
      }
    },
    {
      "cell_type": "code",
      "source": [
        "X_train_tensor = torch.FloatTensor(X_train)\n",
        "X_test_tensor = torch.FloatTensor(X_test)\n",
        "y_train_tensor = torch.LongTensor(y_train) # The target data type is required to be long when using class indices.\n",
        "y_test_tensor = torch.LongTensor(y_test)"
      ],
      "metadata": {
        "id": "YcpUWW3rqvXJ"
      },
      "execution_count": 26,
      "outputs": []
    },
    {
      "cell_type": "code",
      "source": [
        "print(y_train_tensor.shape)\n",
        "print(y_test_tensor.shape)"
      ],
      "metadata": {
        "colab": {
          "base_uri": "https://localhost:8080/"
        },
        "id": "fruo-OGJrG42",
        "outputId": "b02f7a0c-1721-4080-a779-d708a08777b4"
      },
      "execution_count": 27,
      "outputs": [
        {
          "output_type": "stream",
          "name": "stdout",
          "text": [
            "torch.Size([800])\n",
            "torch.Size([200])\n"
          ]
        }
      ]
    },
    {
      "cell_type": "code",
      "source": [
        "print(y_train_tensor[:5])"
      ],
      "metadata": {
        "colab": {
          "base_uri": "https://localhost:8080/"
        },
        "id": "r51-BItXE-rp",
        "outputId": "0ba2801d-d653-4da6-e478-9040b88f47a3"
      },
      "execution_count": 29,
      "outputs": [
        {
          "output_type": "stream",
          "name": "stdout",
          "text": [
            "tensor([1, 0, 1, 0, 0])\n"
          ]
        }
      ]
    },
    {
      "cell_type": "markdown",
      "source": [
        "## Create Model"
      ],
      "metadata": {
        "id": "AcLnymPBrp4V"
      }
    },
    {
      "cell_type": "code",
      "source": [
        "model = SimpleMLP(input_size=2, hidden_size=10, output_size=2)\n",
        "print(model)"
      ],
      "metadata": {
        "colab": {
          "base_uri": "https://localhost:8080/"
        },
        "id": "jrLPmDR3rvLZ",
        "outputId": "639ebd22-ce2d-4687-8418-71ed9bce1bdc"
      },
      "execution_count": 30,
      "outputs": [
        {
          "output_type": "stream",
          "name": "stdout",
          "text": [
            "SimpleMLP(\n",
            "  (model): Sequential(\n",
            "    (0): Linear(in_features=2, out_features=10, bias=True)\n",
            "    (1): ReLU()\n",
            "    (2): Linear(in_features=10, out_features=2, bias=True)\n",
            "  )\n",
            ")\n"
          ]
        }
      ]
    },
    {
      "cell_type": "markdown",
      "source": [
        "## Define Loss Function and Optimizer"
      ],
      "metadata": {
        "id": "dvl6voSUspzE"
      }
    },
    {
      "cell_type": "code",
      "source": [
        "loss_function = nn.CrossEntropyLoss()\n",
        "optimizer = optim.Adam(model.parameters(), lr=0.01)"
      ],
      "metadata": {
        "id": "-EJpa2GjsiPN"
      },
      "execution_count": 32,
      "outputs": []
    },
    {
      "cell_type": "markdown",
      "source": [
        "## Train Model"
      ],
      "metadata": {
        "id": "u350I-cfs_Jq"
      }
    },
    {
      "cell_type": "code",
      "source": [
        "n_epochs = 500\n",
        "train_loss_history = []\n",
        "train_accuracy_history = []"
      ],
      "metadata": {
        "id": "Zppb4BIOtBmL"
      },
      "execution_count": 33,
      "outputs": []
    },
    {
      "cell_type": "code",
      "source": [
        "for epoch in range(n_epochs):\n",
        "  # forward pass\n",
        "  model_outputs = model(X_train_tensor)\n",
        "  # print(model_outputs.shape)\n",
        "  current_loss = loss_function(model_outputs, y_train_tensor)\n",
        "\n",
        "  # calculate accuracy\n",
        "  _, predicted_labels = torch.max(model_outputs, 1)\n",
        "  current_accuracy = (predicted_labels == y_train_tensor).float().mean()\n",
        "\n",
        "  # backward pass\n",
        "  optimizer.zero_grad()\n",
        "  current_loss.backward()\n",
        "  optimizer.step()\n",
        "\n",
        "  loss_history.append(current_loss)\n",
        "  train_accuracy_history.append(current_accuracy)\n",
        "\n",
        "  if (epoch + 1) % 100 == 0:\n",
        "    print(f\"Epoch {epoch + 1} loss: {current_loss}, accuracy: {current_accuracy}\")\n"
      ],
      "metadata": {
        "colab": {
          "base_uri": "https://localhost:8080/"
        },
        "id": "osjuNlFWtLsM",
        "outputId": "13897795-3e97-495b-ac41-523f7be68600"
      },
      "execution_count": 39,
      "outputs": [
        {
          "output_type": "stream",
          "name": "stdout",
          "text": [
            "Epoch 100 loss: 0.1669335961341858, accuracy: 0.9337499737739563\n",
            "Epoch 200 loss: 0.15027391910552979, accuracy: 0.9325000047683716\n",
            "Epoch 300 loss: 0.14027085900306702, accuracy: 0.9350000023841858\n",
            "Epoch 400 loss: 0.1339671015739441, accuracy: 0.9424999952316284\n",
            "Epoch 500 loss: 0.1294412463903427, accuracy: 0.9474999904632568\n"
          ]
        }
      ]
    },
    {
      "cell_type": "markdown",
      "source": [
        "###  torch.max(input, *, out=None) → Tensor\n",
        "* Parameters\n",
        "  * **dim** (int, optional) – the dimension to reduce.\n",
        "  * If omitted, all dimensions are reduced. Explicit None is not supported.\n",
        "* Returns a namedtuple **(values, indices)**\n",
        "  * values: the maximum value of each row of the input tensor in the given dimension dim.\n",
        "  * indices is the index location of each maximum value found (argmax)."
      ],
      "metadata": {
        "id": "4r8CBTb--l8H"
      }
    },
    {
      "cell_type": "code",
      "source": [
        "input_x_tensor = torch.randn(3,2)\n",
        "input_x_tensor"
      ],
      "metadata": {
        "colab": {
          "base_uri": "https://localhost:8080/"
        },
        "id": "YIGhvoNK_BEd",
        "outputId": "343bfbec-aec4-4aa7-9892-a309e796a9cf"
      },
      "execution_count": 42,
      "outputs": [
        {
          "output_type": "execute_result",
          "data": {
            "text/plain": [
              "tensor([[-0.0662, -0.4235],\n",
              "        [-2.3768,  0.0641],\n",
              "        [-0.3435,  1.2287]])"
            ]
          },
          "metadata": {},
          "execution_count": 42
        }
      ]
    },
    {
      "cell_type": "code",
      "source": [
        "torch.max(input_x_tensor, 1)"
      ],
      "metadata": {
        "colab": {
          "base_uri": "https://localhost:8080/"
        },
        "id": "7Bg3u5C3_Jtb",
        "outputId": "387e0a84-5b48-47ac-85c8-be051b7f34e3"
      },
      "execution_count": 43,
      "outputs": [
        {
          "output_type": "execute_result",
          "data": {
            "text/plain": [
              "torch.return_types.max(\n",
              "values=tensor([-0.0662,  0.0641,  1.2287]),\n",
              "indices=tensor([0, 1, 1]))"
            ]
          },
          "metadata": {},
          "execution_count": 43
        }
      ]
    },
    {
      "cell_type": "markdown",
      "source": [
        "### nn.CrossEntropyLoss\n",
        "* This criterion computes the cross entropy loss between input logits and target.\n",
        "* The target data type is required to be **long**\n",
        "```python\n",
        "loss_fn = nn.CrossEntropyLoss()\n",
        "loss = loss_fn(logits, labels)  # logits: [batch_size, num_classes], labels: [batch_size]\n",
        "```"
      ],
      "metadata": {
        "id": "qVUmdHXlD-1R"
      }
    },
    {
      "cell_type": "markdown",
      "source": [
        "### 📌 Cross Entropy Loss – Intuition & Manual Example\n",
        "\n",
        "**What it does:**\n",
        "* Cross entropy loss **penalizes the model** when it **assigns low probability to the correct class**.\n",
        "* It's widely used for multi-class classification.\n",
        "\n",
        "---\n",
        "\n",
        "#### 🔢 Manual Example (1 sample, 3 classes)\n",
        "\n",
        "```python\n",
        "logits = [2.0, 1.0, 0.1]  # model output (before softmax)\n",
        "true_label = 1            # correct class index (class B)\n",
        "```\n",
        "\n",
        "---\n",
        "\n",
        "### 1. Apply Softmax:\n",
        "\n",
        "$$\n",
        "\\text{softmax}(z_i) = \\frac{e^{z_i}}{\\sum_j e^{z_j}}\n",
        "$$\n",
        "\n",
        "$$\n",
        "\\sum = e^{2.0} + e^{1.0} + e^{0.1} \\approx 7.39 + 2.72 + 1.11 = 11.22\n",
        "$$\n",
        "\n",
        "Resulting probabilities:\n",
        "\n",
        "* Class A: $\\frac{e^{2.0}}{11.22} \\approx \\frac{7.39}{11.22} \\approx 0.66$\n",
        "* Class B: $\\frac{e^{1.0}}{11.22} \\approx \\frac{2.72}{11.22} \\approx 0.24$\n",
        "* Class C: $\\frac{e^{0.1}}{11.22} \\approx \\frac{1.11}{11.22} \\approx 0.10$\n",
        "\n",
        "---\n",
        "\n",
        "### 2. Pick True Class Probability (Class B)\n",
        "\n",
        "$$\n",
        "p = 0.24\n",
        "$$\n",
        "\n",
        "---\n",
        "\n",
        "### 3. Compute Cross Entropy Loss:\n",
        "\n",
        "$$\n",
        "\\text{loss} = -\\log(p) = -\\log(0.24) \\approx 1.427\n",
        "$$\n",
        "* The closer this probability is to 1, the smaller the loss.\n",
        "* The closer it is to 0, the larger the loss.\n",
        "---\n",
        "\n",
        "### ✅ PyTorch handles all steps:\n",
        "\n",
        "```python\n",
        "loss_fn = nn.CrossEntropyLoss()\n",
        "loss = loss_fn(logits, labels)  # logits shape: [batch, num_classes], labels: [batch]\n",
        "```\n",
        "\n",
        "> Internally, it applies `log_softmax` and negative log-likelihood in a numerically stable way.\n"
      ],
      "metadata": {
        "id": "Y3Fg88RcIIU3"
      }
    },
    {
      "cell_type": "markdown",
      "source": [
        "### Softmax Curve"
      ],
      "metadata": {
        "id": "i42cv5o5LL1d"
      }
    },
    {
      "cell_type": "code",
      "source": [
        "import numpy as np\n",
        "import matplotlib.pyplot as plt\n",
        "\n",
        "# Create a range of logit values for Class 1\n",
        "x = np.linspace(-5, 5, 500)\n",
        "\n",
        "# Simulate logits for 3 classes: class1 = x, class2 = 0, class3 = -x\n",
        "logits = np.vstack([x, np.zeros_like(x), -x])\n",
        "\n",
        "# Apply softmax\n",
        "exp_logits = np.exp(logits)\n",
        "softmax = exp_logits / np.sum(exp_logits, axis=0)\n",
        "\n",
        "# Plot the softmax outputs\n",
        "plt.figure(figsize=(7, 5))\n",
        "plt.plot(x, softmax[0], label=\"Class 1 (logit = x)\")\n",
        "plt.plot(x, softmax[1], label=\"Class 2 (logit = 0)\")\n",
        "plt.plot(x, softmax[2], label=\"Class 3 (logit = -x)\")\n",
        "plt.title(\"Softmax Output vs Input Logits\")\n",
        "plt.xlabel(\"Input Logit (x)\")\n",
        "plt.ylabel(\"Softmax Probability\")\n",
        "plt.grid(True)\n",
        "plt.legend()\n",
        "plt.tight_layout()\n",
        "plt.show()\n"
      ],
      "metadata": {
        "colab": {
          "base_uri": "https://localhost:8080/",
          "height": 507
        },
        "id": "U09-LIpmLSWw",
        "outputId": "3fd9f705-3b08-4d21-b8c2-5a3eed648bf3"
      },
      "execution_count": 46,
      "outputs": [
        {
          "output_type": "display_data",
          "data": {
            "text/plain": [
              "<Figure size 700x500 with 1 Axes>"
            ],
            "image/png": "[encoded data removed]"
          },
          "metadata": {}
        }
      ]
    },
    {
      "cell_type": "markdown",
      "source": [
        "### 📌 Why Apply Softmax?\n",
        "\n",
        "#### 1. **Convert raw scores (logits) into probabilities**\n",
        "\n",
        "* Model outputs (logits) are just arbitrary real numbers.\n",
        "* Softmax turns them into values between **0 and 1** that **sum to 1**, making them interpretable as probabilities.\n",
        "\n",
        "#### 2. **Focus on relative strength**\n",
        "\n",
        "* Softmax emphasizes which class is more likely **relative to others**.\n",
        "* A larger logit gets a **disproportionately higher** softmax score.\n",
        "\n",
        "#### 3. **Required by cross-entropy math**\n",
        "\n",
        "* Cross-entropy compares the predicted **probability** for the correct class.\n",
        "* You can only calculate it after converting logits into probabilities using softmax:\n",
        "\n",
        "  $$\n",
        "  \\text{CrossEntropy} = -\\log(\\text{softmax score of true class})\n",
        "  $$\n",
        "\n",
        "---\n",
        "\n",
        "### ✅ PyTorch note:\n",
        "\n",
        "If you use `nn.CrossEntropyLoss`, **you do NOT need to apply softmax manually**. It does `log_softmax + NLLLoss` internally in a numerically stable way.\n",
        "\n",
        "---\n",
        "\n",
        "Let me know if you want an example to visualize this!\n"
      ],
      "metadata": {
        "id": "2PuWch8CLpKg"
      }
    },
    {
      "cell_type": "markdown",
      "source": [
        "### Cross Entropy Loss curve -log(p)"
      ],
      "metadata": {
        "id": "59f-WLx4KGfg"
      }
    },
    {
      "cell_type": "code",
      "source": [
        "# Probability values close to 0–1\n",
        "p = np.linspace(0.001, 0.999, 1000)\n",
        "loss = -np.log(p)\n",
        "\n",
        "# Plot\n",
        "plt.figure(figsize=(6, 4))\n",
        "plt.plot(p, loss, label=\"-log(p)\", color=\"blue\")\n",
        "plt.xlabel(\"Predicted Probability (p)\")\n",
        "plt.ylabel(\"Cross Entropy Loss\")\n",
        "plt.title(\"Cross Entropy Loss Curve\")\n",
        "plt.grid(True)\n",
        "plt.legend()\n",
        "plt.show()"
      ],
      "metadata": {
        "colab": {
          "base_uri": "https://localhost:8080/",
          "height": 410
        },
        "id": "iHRbQIrWIH_B",
        "outputId": "5d1e949c-771a-4e6b-abd0-a488ff8bbae2"
      },
      "execution_count": 44,
      "outputs": [
        {
          "output_type": "display_data",
          "data": {
            "text/plain": [
              "<Figure size 600x400 with 1 Axes>"
            ],
            "image/png": "[encoded data removed]"
          },
          "metadata": {}
        }
      ]
    },
    {
      "cell_type": "markdown",
      "source": [
        "### Natural logarithm curve log⁡(x):"
      ],
      "metadata": {
        "id": "QQwOIrgmKkep"
      }
    },
    {
      "cell_type": "code",
      "source": [
        "# x from 0.001 to 10\n",
        "x = np.linspace(0.001, 10, 1000)\n",
        "y = np.log(x)\n",
        "\n",
        "plt.figure(figsize=(6, 4))\n",
        "plt.plot(x, y, color='green', label='log(x)')\n",
        "plt.axhline(0, color='gray', linestyle='--')\n",
        "plt.axvline(1, color='gray', linestyle='--', label='x=1')\n",
        "plt.title(\"Natural Logarithm Curve: log(x)\")\n",
        "plt.xlabel(\"x\")\n",
        "plt.ylabel(\"log(x)\")\n",
        "plt.grid(True)\n",
        "plt.legend()\n",
        "plt.tight_layout()\n",
        "plt.show()"
      ],
      "metadata": {
        "colab": {
          "base_uri": "https://localhost:8080/",
          "height": 407
        },
        "id": "pPOfsG9PKkAr",
        "outputId": "aeebb058-9739-41fc-a96b-516d6958845b"
      },
      "execution_count": 45,
      "outputs": [
        {
          "output_type": "display_data",
          "data": {
            "text/plain": [
              "<Figure size 600x400 with 1 Axes>"
            ],
            "image/png": "[encoded data removed]"
          },
          "metadata": {}
        }
      ]
    }
  ]
}